{
 "cells": [
  {
   "cell_type": "markdown",
   "id": "f5e177c2",
   "metadata": {},
   "source": [
    "# RECRUITING SENIOR DATA ENGINEER - EDISON SPA\n",
    "## Test di valutazione: data processing and coding skills\n",
    "\n",
    "In questo test verrà richiesto lo sviluppo di una Proof of Concept per definire un flusso di elaborazione e analisi dei dati. Questo caso d'uso riguarda i consumi energetici di una smart home. In particolare, si avranno a disposizione due dataset:\n",
    "* Smart Home (home-data-consumes-raw.csv): contiene tutti i dati dei consumi energetici di una casa nell'arco di una settimana.\n",
    "* Dati climatici (climate-data.csv): contiene tutti i dati relativi al clima della stessa area geografica della smart home."
   ]
  },
  {
   "cell_type": "markdown",
   "id": "f3c03fcc",
   "metadata": {},
   "source": [
    "# Consigli di carattere generale\n",
    "\n",
    "1. **Commentare il codice**, specialmente classi e funzioni utilizzando delle *docstrings*, aiuterà chiunque lavori in futuro a questo progetto a comprendere meglio il lavoro svolto\n",
    "2. Quando vengono generate nuove features o variabili d'appoggio, dare **nomi concisi ma parlanti** permette una migliore comprensione del codice a chi si approcci per la prima volta al problema\n",
    "3. Non esiste per forza un approccio giusto o sbagliato, potete aggiungere spiegazioni e **commenti** ad integrazioni delle vostre scelte\n",
    "4. Non è richiesto lo sviluppo di modelli di deep learning ad elevata complessità o l'utilizzo di librerie esotiche, il test è mirato a stabilire alcune **competenze di base** che risultano utili nel lavoro in team e nello sviluppo di un codice production-ready.\n",
    "5. Al fine di completare il test in un lasso di tempo breve, si consiglia di concentrare i propri sforzi sul testare poche soluzioni valide per una **PoC iniziale**, commentarle ed eventualmente giustificare eventuali semplificazioni introdotte"
   ]
  },
  {
   "cell_type": "markdown",
   "id": "abfa0659",
   "metadata": {},
   "source": [
    "# Obiettivo e descrizione del problema\n",
    "\n",
    "Il progetto ha lo scopo di analizzare i consumi di una smart home cercando di individuare le aree che consumano di più e ottimizzarne i consumi anche in relazione alle condizioni climatiche esterne alla casa. Per evitare di andare fuori contesto rispondere semplicemente alle seguenti domande:\n",
    "\n",
    "1. Quali aree della casa consumano di più?\n",
    "2. Con quale condizione atmosferica consumo di più? E con quale di meno?\n",
    "3. Per quanti giorni abbiamo avuto una situazione chiara?\n",
    "4. Qual è la media dei consumi per ogni area?\n",
    "5. In media in quali giorni della settimana consumo di più? E quale area in particolare?\n",
    "6. Per ogni giorno della settimana indicare quale area della casa consuma di più\n",
    "7. Quale elettrodomestico della cucina consuma di più?\n",
    "8. Quale dei due forni consuma di più?\n",
    "9. Quanti kW vengono consumati quando la temperatura è massima? E quali sono i consumi con la temperatura minima?\n",
    "10. Stessa domanda della 9 ma considerando la copertura di nuvole massimo e quella minima\n",
    "11. stessa domanda di 9 e 10 ma considerando le precipitazioni massime e minime\n",
    "12. In quale arco della giornata avviene la produzione massima di energia solare??\n",
    "13. In quale arco della giornata si consuma di meno?\n",
    "14. Quanta energia viene prodotta dai pannelli solari quando la temperatura esterna è massima?\n",
    "15. Quanta energia viene prodotta dai pannelli solari con una copertura di nuvole massima?\n",
    "\n",
    "Quanto possibile utilizzare grafici per rispondere alle domande\n",
    "    \n"
   ]
  },
  {
   "cell_type": "markdown",
   "id": "7bd00998",
   "metadata": {},
   "source": [
    "# Descrizione Dataset\n",
    "\n",
    "**home-data-consumes-raw.csv:**\n",
    "* **Time:** Timestamp della misurazione. E' in secondi, andrebbe trasformato in datetime\n",
    "* **Gen:** Corrente generata\n",
    "* **Dishwasher:** Corrente consumata dalla lavastoviglie, si può immaginare che sia in cucina\n",
    "* **Furnace 1:** Corrente consumata da uno dei forni\n",
    "* **Furnace 2:** Corrente consumata dal secondo forno\n",
    "* **Wine Cellar:** Corrente consumata dalla cantina\n",
    "* **Garage door:** Corrente consumata dalla porta del garage\n",
    "* **Kitchen 12:** Corrente consumata da un elettrodomestico della cucina\n",
    "* **Kitchen 14:** Corrente consumata da un elettrodomestico della cucina\n",
    "* **Kitchen 38:** Corrente consumata da un elettrodomestico della cucina\n",
    "* **Barn:** Corrente consumata dal fienile\n",
    "* **Well:** Corrente consumata dal bagno\n",
    "* **Mirowave:** Corrente consumata dal microonde (molto probabilmente sarà posizionato in cucina)\n",
    "* **Living room:** Corrente consumata nel soggiorno\n",
    "* **Solar:** Energia prodotta dai pannelli solari installati sulla casa\n",
    "\n",
    "**climate-data.csv:**\n",
    "* **Temperature:** Temperatura fuori dalla casa in gradi Celsius\n",
    "* **Humidity:** Umidità dell'aria\n",
    "* **Visibility:** Visibilità\n",
    "* **Summary:** Variabile categorica che indica in generale com'è il tempo\n",
    "* **Pressure:** pressione\n",
    "* **Wind Speed:** velocità del vento penso in m/s\n",
    "* **Cloud Cover:** Copertura del cielo dalle nuvole. Si misura in oktas, i valori spaziano da 0 a 1, 0 rappresenta assenza completa di nuove e 1 cielo coperto da nuvole\n",
    "* **Precip Intensity:** Intensità delle precipitazioni (in mm)\n",
    "* **PrecipProbability:** Probabilità di precipitazioni"
   ]
  },
  {
   "cell_type": "markdown",
   "id": "d8260749",
   "metadata": {},
   "source": [
    "# Fasi preprocessing\n",
    "Questi sono dei suggerimenti su come procedere nelle prime fasi di analisi e processing del dataset. Tuttavia, si tratta di suggerimenti, non si è limitati solo a questi task.\n",
    "\n",
    "1. Feature Engineering: \n",
    "        a. definire una nuova colonna che comprenda i consumi totali della cucina\n",
    "        b. Ci sono due colonne che forniscono la stessa informazione, rimuoverne una\n",
    "        c. Definire una nuova colonna che comprenda i consumi dei forni e del microonde\n",
    "        d. Definire una nuova colonna categorica basata su Cloud Cover. Valori da (0, 0.30) => CIELO CHIARO, valori da (0.31, 0.60) => LEGGERMENTE COPERTO, valori (0.61, 1) => CIELO COPERTO\n",
    "        e. calcolare la percentuale di energia generata sul totale consumato\n",
    "2. Il tempo è nel formato timestamp, trasformarlo nel giusto formato YYYY-MM-DD HH:mm:SS\n",
    "3. Controllare in generale che tutte le colonne siano nel loro giusto formato\n",
    "4. Gestire i valori Null"
   ]
  },
  {
   "cell_type": "markdown",
   "id": "c2310489",
   "metadata": {},
   "source": [
    "# Inizio lavori"
   ]
  },
  {
   "cell_type": "code",
   "execution_count": null,
   "id": "afa73855",
   "metadata": {},
   "outputs": [],
   "source": [
    "# Import delle librerie\n",
    "# import...\n",
    "import pandas as pd\n",
    "import matplotlib.pyplot as plt\n",
    "import seaborn as sns\n",
    "import numpy as np\n",
    "import datetime\n",
    "import os "
   ]
  },
  {
   "cell_type": "markdown",
   "id": "e232ec94",
   "metadata": {},
   "source": [
    "# 1. Pre-processing\n",
    "\n",
    "Analizzare i dataset e trasformare le feauteres nel giusto formato."
   ]
  },
  {
   "cell_type": "code",
   "execution_count": null,
   "id": "9e8d030e",
   "metadata": {},
   "outputs": [],
   "source": [
    "# lettura dati\n",
    "# ...\n",
    "CLIMATE_DATA_PATH = 'data/climate-data.csv'\n",
    "SMART_HOME_PATH = 'data/smart-home-data-raw.csv'\n",
    "\n",
    "# Creazione del DataFrame di climate-data definendo lo schema\n",
    "schema_climate = {'id': 'int', 'time': 'str', 'temperature': 'float', 'humidity': 'float', 'visibility': 'float', 'summary': 'str',\n",
    "         'pressure': 'float', 'windSpeed': 'float', 'cloudCover': 'float', 'precipIntensity': 'float', 'precipProbability': 'float'} \n",
    "\n",
    "climate_df = pd.read_csv(CLIMATE_DATA_PATH, dtype=schema_climate)\n",
    "\n",
    "\n",
    "# Creazione del DataFrame di smart-home definendo lo schema\n",
    "schema_smart_home = {'id': 'int', 'time': 'str', 'gen [kW]': 'float', 'Dishwasher [kW]': 'float', 'Furnace 1 [kW]': 'float', 'Furnace 2 [kW]': 'float',\n",
    "         'Home office [kW]': 'float', 'Fridge [kW]': 'float', 'Wine cellar [kW]': 'float', 'Garage door [kW]': 'float', 'Kitchen 12 [kW]': 'float',\n",
    "         'Kitchen 14 [kW]': 'float',  'Kitchen 38 [kW]': 'float', 'Barn [kW]': 'float','Well [kW]': 'float','Microwave [kW]': 'float','Living room [kW]': 'float',\n",
    "         'Solar [kW]': 'float', 'alexa [kW]': 'float'} \n",
    "\n",
    "smart_home_df = pd.read_csv(SMART_HOME_PATH, dtype=schema_smart_home)\n"
   ]
  },
  {
   "cell_type": "markdown",
   "id": "d3ef540b",
   "metadata": {},
   "source": [
    "### 1.2 Trasformazione dei dati nel loro giusto formato"
   ]
  },
  {
   "cell_type": "markdown",
   "id": "1d07b927",
   "metadata": {},
   "source": [
    "### 1.1 EDA\n",
    "\n",
    "Effettuare delle prime visualizzazioni sui dati per comprendere se sono nel giusto formato, visualizzare il loro comportamento e la presenza di valori **NULL**. Non bisogna farlo per tutte le variabili bastano solo le variabili su cui si effettueranno le dovute trasformaizoni."
   ]
  },
  {
   "cell_type": "code",
   "execution_count": null,
   "id": "67f61c15",
   "metadata": {},
   "outputs": [],
   "source": [
    "#Per effettuare una prima visualizzazione dei dati, andrò a mostrare le prime righe dei DataFrame importati al punto precedente:\n",
    "#Per il file csv climate-data\n",
    "print(climate_df.head())\n",
    "\n",
    "#Per il file csv smart-home-data-raw: \n",
    "print(smart_home_df.head())"
   ]
  },
  {
   "cell_type": "code",
   "execution_count": null,
   "id": "c2e82263",
   "metadata": {},
   "outputs": [],
   "source": [
    "#Verifico la presenza di valori Null per ogni colonna all'interno dei Dataframe: \n",
    "print(\"visualizzazione dei valori null per il DF: climate_df\")\n",
    "print(climate_df.isnull().sum())\n",
    "print(\"visualizzazione dei valori null per il DF: smart_home_df\")\n",
    "print(smart_home_df.isnull().sum())"
   ]
  },
  {
   "cell_type": "markdown",
   "id": "b4748156",
   "metadata": {},
   "source": [
    "Nella cella sotto si crea un DataFrame contenente le sole colonne di interesse che definiscono i consumi della zona cucina. \n",
    "\n"
   ]
  },
  {
   "cell_type": "code",
   "execution_count": null,
   "id": "5adc9def",
   "metadata": {},
   "outputs": [],
   "source": [
    "#Seleziono le colonne di interesse che definiscono i consumi della zona cucina: \n",
    "columns_of_interest = ['Dishwasher [kW]', 'Furnace 1 [kW]', 'Furnace 2 [kW]', 'Fridge [kW]', 'Kitchen 12 [kW]', 'Kitchen 14 [kW]', 'Kitchen 38 [kW]', 'Microwave [kW]']\n",
    "\n",
    "cucina_df = smart_home_df[columns_of_interest]\n",
    "print(cucina_df.head())"
   ]
  },
  {
   "cell_type": "markdown",
   "id": "d2a9a21e",
   "metadata": {},
   "source": [
    "Per analizzare il comportamento dei dati: si creano degli instogramma per le varie colonne sui vari Dataset: \n",
    "1. per tutti i consumi della cucina. \n",
    "2. sull'energia generata.\n",
    "3. sull'energia solare prodotta. \n",
    "4. sulla temperatura fuori dalla casa. "
   ]
  },
  {
   "cell_type": "code",
   "execution_count": null,
   "id": "b780bf75",
   "metadata": {},
   "outputs": [],
   "source": [
    "#1. Instogrammi per i consumi della cucina: \n",
    "cucina_df.plot(kind='hist', bins=20)"
   ]
  },
  {
   "cell_type": "code",
   "execution_count": null,
   "id": "e9c54ebf",
   "metadata": {},
   "outputs": [],
   "source": [
    "#2. Instogramma sull'energia generata: \n",
    "smart_home_df['gen [kW]'].plot(kind='hist', bins=20)"
   ]
  },
  {
   "cell_type": "code",
   "execution_count": null,
   "id": "b3420e06",
   "metadata": {},
   "outputs": [],
   "source": [
    "#3. Instogramma sull'energia prodotta dai panelli solari: \n",
    "smart_home_df['Solar [kW]'].plot(kind='hist', bins=20)"
   ]
  },
  {
   "cell_type": "code",
   "execution_count": null,
   "id": "08a67bf5",
   "metadata": {},
   "outputs": [],
   "source": [
    "#4. Istagramma sulla temperatura fuori dalla casa: \n",
    "climate_df['temperature'].plot(kind='hist', bins=20)"
   ]
  },
  {
   "cell_type": "markdown",
   "id": "f7865a65",
   "metadata": {},
   "source": [
    "### 1.3 Feature Engineering\n",
    "\n",
    "Questi sono dei suggerimenti su come procedere nelle prime fasi di feature engineering. Tuttavia, si tratta di suggerimenti, non si è limitati solo a questi task.\n",
    "\n",
    "1. Feature Engineering: \n",
    "        a. definire una nuova colonna che comprenda i consumi totali della cucina\n",
    "        b. Ci sono due colonne che forniscono la stessa informazione, rimuoverne una\n",
    "        c. Definire una nuova colonna che comprenda i consumi dei forni e del microonde\n",
    "        d. Definire una nuova colonna categorica basata su Cloud Cover. Valori da (0, 0.30) => CIELO CHIARO, valori da (0.31, 0.60) => LEGGERMENTE COPERTO, valori (0.61, 1) => CIELO COPERTO\n",
    "        e. calcolare la percentuale di energia generata sul totale consumato\n",
    "2. Il tempo è nel formato timestamp, trasformarlo nel giusto formato YYYY-MM-DD HH:mm:SS\n",
    "3. Gestire i valori Null"
   ]
  },
  {
   "cell_type": "code",
   "execution_count": null,
   "id": "10afea6c",
   "metadata": {},
   "outputs": [],
   "source": [
    "#a. definire una nuova colonna che comprenda i consumi totali della cucina\n",
    "#Definisco il DF\n",
    "column_interest_smart_home = ['id', 'time', 'gen [kW]', 'Home office [kW]', 'Wine cellar [kW]', 'Garage door [kW]', 'Barn [kW]',\n",
    "                             'Well [kW]', 'Living room [kW]', 'Solar [kW]', 'alexa [kW]']\n",
    "\n",
    "df_smart_home_cucina = smart_home_df[column_interest_smart_home]\n",
    "\n",
    "#somma dei consumi totali della cucina: \n",
    "sum_consumi_cucina = cucina_df.sum(axis = 1, skipna = True)\n",
    "df_consumi_cucina = pd.DataFrame(sum_consumi_cucina)\n",
    "\n",
    "#estrare i valori della seconda colonna\n",
    "values_cucina = df_consumi_cucina.iloc[:, 0]\n",
    "\n",
    "#Si crea la colonna 'cucina' nel DF\n",
    "df_smart_home_cucina = df_smart_home_cucina.assign(cucina=values_cucina)\n",
    "\n",
    "print(df_smart_home_cucina.head())"
   ]
  },
  {
   "cell_type": "code",
   "execution_count": null,
   "id": "0d4928b8",
   "metadata": {},
   "outputs": [],
   "source": [
    "#b. Ci sono due colonne che forniscono la stessa informazione, rimuoverne una\n",
    "\n",
    "#metodo che individua se ci sono dei duplicati nei DF\n",
    "def getDuplicateColumns(df):\n",
    " \n",
    "    #Creazione di un Set\n",
    "    lista_colonne_duplicati = set()\n",
    " \n",
    "    #Iterare sulle colonne del DF  \n",
    "    for x in range(df.shape[1]):\n",
    " \n",
    "        #Prende la colonna alla posizione x-esima\n",
    "        col = df.iloc[:, x]\n",
    " \n",
    "        #Iterare sulle colonne del DF dalla posizione x+1 fino alla fine\n",
    "        for y in range(x + 1, df.shape[1]):\n",
    " \n",
    "            #Prende la colonna alla posizione y-esima\n",
    "            otherCol = df.iloc[:, y]\n",
    " \n",
    "            #Check se le colonne x e y sono uguali\n",
    "            if col.equals(otherCol):\n",
    "                lista_colonne_duplicati.add(df.columns.values[y])\n",
    " \n",
    "    #Return della lista delle colonne duplicate\n",
    "    return list(lista_colonne_duplicati)\n",
    "\n",
    "\n",
    "print(\"Duplicati nel DF: climate_df\")\n",
    "duplicateColNames_climate = getDuplicateColumns(climate_df)\n",
    "\n",
    "if(len(duplicateColNames_climate)==0): \n",
    "    print(\"Non ci sono duplicati nel df: climate_df\")\n",
    "else:\n",
    "    for column in duplicateColNames_climate:\n",
    "        print('Column Name : ', column)\n",
    "    \n",
    "print(\"Duplicati nel DF: smart_home_df\")\n",
    "duplicateColNames_smart_home = getDuplicateColumns(smart_home_df)\n",
    "\n",
    "if(len(duplicateColNames_smart_home)==0):\n",
    "    print(\"Non ci sono duplicati nel df: smart_home_df\")\n",
    "else: \n",
    "    for column in duplicateColNames_smart_home:\n",
    "        print('Column Name : ', column)\n"
   ]
  },
  {
   "cell_type": "code",
   "execution_count": null,
   "id": "89f40981",
   "metadata": {},
   "outputs": [],
   "source": [
    "#Eliminare la colonna Solar che è duplicata\n",
    "df_smart_home_cucina = df_smart_home_cucina.drop(['Solar [kW]'], axis = 1)\n",
    "print(df_smart_home_cucina.head())"
   ]
  },
  {
   "cell_type": "code",
   "execution_count": null,
   "id": "19731f91",
   "metadata": {},
   "outputs": [],
   "source": [
    "#c. Definire una nuova colonna che comprenda i consumi dei forni e del microonde \n",
    "column_forno_micro = ['Furnace 1 [kW]', 'Furnace 2 [kW]','Microwave [kW]']\n",
    "\n",
    "df_forno_micro = smart_home_df[column_forno_micro]\n",
    "\n",
    "sum_forno_micro = df_forno_micro.sum(axis = 1, skipna = True)\n",
    "\n",
    "\n",
    "df_smart_home_cucina = df_smart_home_cucina.assign(forno_micro=sum_forno_micro)\n",
    "\n",
    "print(df_smart_home_cucina)"
   ]
  },
  {
   "cell_type": "code",
   "execution_count": null,
   "id": "29a1faa4",
   "metadata": {},
   "outputs": [],
   "source": [
    "#d. Definire una nuova colonna categorica basata su Cloud Cover. Valori da (0, 0.30) => CIELO CHIARO, \n",
    "#valori da (0.31, 0.60) => LEGGERMENTE COPERTO, valori (0.61, 1) => CIELO COPERTO\n",
    "\n",
    "def categorizza_cloud_cover(valore):\n",
    "    if 0 <= valore <= 0.30:\n",
    "        return 'CIELO CHIARO'\n",
    "    elif 0.31 <= valore <= 0.60:\n",
    "        return 'LEGGIAMENTE COPERTO'\n",
    "    elif 0.61 <= valore <= 1:\n",
    "        return 'CIELO COPERTO'\n",
    "    else:\n",
    "        return 'Valore non valido'\n",
    "    \n",
    "cielo = climate_df['cloudCover'].apply(categorizza_cloud_cover)\n",
    "\n",
    "climate_df = climate_df.assign(cielo=cielo)\n",
    "\n",
    "print(climate_df)"
   ]
  },
  {
   "cell_type": "code",
   "execution_count": null,
   "id": "08cdd271",
   "metadata": {},
   "outputs": [],
   "source": [
    "#e. calcolare la percentuale di energia generata sul totale consumato\n",
    "\n",
    "column_interest_consumi = ['Home office [kW]', 'Wine cellar [kW]', 'Garage door [kW]', 'Barn [kW]',\n",
    "                             'Well [kW]', 'Living room [kW]', 'alexa [kW]', 'cucina']\n",
    "\n",
    "df_smart_home_consumi_tot = df_smart_home_cucina[column_interest_consumi]\n",
    "\n",
    "sum_consumi_tot = df_smart_home_consumi_tot.sum(axis = 1, skipna = True)\n",
    "\n",
    "#percentuale = (sum_consumi_tot / df_smart_home_cucina['gen [kW]'].sum()) * 100\n",
    "percentuale = (df_smart_home_cucina['gen [kW]'] / sum_consumi_tot.sum()) * 100 \n",
    "\n",
    "print(percentuale)"
   ]
  },
  {
   "cell_type": "markdown",
   "id": "5344cb38",
   "metadata": {},
   "source": [
    "3. Gestire i valori Null\n",
    "\n",
    "Per la gestione dei valori Null, dall'analisi fatta sopra, si è visto che la colonna Alexa è piena di valori Null, ovvero ha bel 432167 righe a Null, oltre ciò, dall'analisi svolta sulle query che bisogna al punto 2 sotto, la colonna Alexa non impatta molto. Quindi fatte queste considerazioni si è deciso di eliminare la colonna Alexa.\n",
    "\n",
    "NOTA: Prima di eseguire il punto 2, eseguo la gestione del valori null"
   ]
  },
  {
   "cell_type": "code",
   "execution_count": null,
   "id": "cd7fff27",
   "metadata": {},
   "outputs": [],
   "source": [
    "#3. Gestire i valori Null\n",
    "\n",
    "#Eliminazione della colonna Alexa: \n",
    "df_smart_home_cucina = df_smart_home_cucina.drop(['alexa [kW]'], axis = 1)\n",
    "print(df_smart_home_cucina.head())"
   ]
  },
  {
   "cell_type": "code",
   "execution_count": null,
   "id": "d4bd6b55",
   "metadata": {},
   "outputs": [],
   "source": [
    "#Eliminazione delle righe con il valore null: \n",
    "\n",
    "df_smart_home_cucina = df_smart_home_cucina.dropna(how='any')\n",
    "print(df_smart_home_cucina.isnull().sum())\n"
   ]
  },
  {
   "cell_type": "code",
   "execution_count": null,
   "id": "2b168308",
   "metadata": {},
   "outputs": [],
   "source": [
    "#2. Il tempo è nel formato timestamp, trasformarlo nel giusto formato YYYY-MM-DD HH:mm:SS\n",
    "# La formattazione del tempo viene eseguita per entrambi i Dataframe \n",
    "from datetime import datetime\n",
    "df_form = pd.DataFrame()\n",
    "\n",
    "def formattazione_tempo(valore): \n",
    "    try:\n",
    "        datetime_object = datetime.strptime(valore, '%Y-%m-%d %H:%M:%S')\n",
    "    except ValueError:\n",
    "        datetime_object = datetime.fromtimestamp(int(valore))\n",
    "    return datetime_object\n",
    "\n",
    "\n",
    "df_smart_home_cucina[\"tempo\"] = df_smart_home_cucina['time'].apply(formattazione_tempo)\n",
    "climate_df[\"tempo\"] = climate_df['time'].apply(formattazione_tempo)\n",
    "print(df_smart_home_cucina)\n",
    "print(climate_df)"
   ]
  },
  {
   "cell_type": "code",
   "execution_count": null,
   "id": "f454d7d3",
   "metadata": {},
   "outputs": [],
   "source": [
    "#Eliminazione della colonna time che è stata già trasformata nella colonna \"tempo\"\n",
    "df_smart_home_cucina = df_smart_home_cucina.drop(['time'], axis = 1)\n",
    "climate_df = climate_df.drop(['time'], axis = 1)\n",
    "#print(df_smart_home_cucina)\n",
    "#print(climate_df)"
   ]
  },
  {
   "cell_type": "markdown",
   "id": "e3656413",
   "metadata": {},
   "source": [
    "### 1.4 Data Integration\n",
    "\n",
    "Integrare i dati della smart home con quelli del clima"
   ]
  },
  {
   "cell_type": "code",
   "execution_count": null,
   "id": "dd4639af",
   "metadata": {},
   "outputs": [],
   "source": [
    "#Fatta la merge dei 2 DF sulla colonna tempo\n",
    "df_integrato = df_smart_home_cucina.merge(climate_df, on=\"tempo\")\n",
    "print(df_integrato)\n"
   ]
  },
  {
   "cell_type": "markdown",
   "id": "d5fcfaea",
   "metadata": {},
   "source": [
    "# 2. Rispondere alle domande obiettivo"
   ]
  },
  {
   "cell_type": "markdown",
   "id": "ad9581e8",
   "metadata": {},
   "source": [
    "### 1. Quali aree della casa consumano di più?\n"
   ]
  },
  {
   "cell_type": "code",
   "execution_count": null,
   "id": "6f84431e",
   "metadata": {},
   "outputs": [],
   "source": [
    "#si può fare anche un grafico \n",
    "\n",
    "colonne_interesse_consumi = [\"Home office [kW]\", \"Wine cellar [kW]\", \"Garage door [kW]\", \"Barn [kW]\", \"Well [kW]\",\n",
    "                             \"Living room [kW]\", \"cucina\"]\n",
    "\n",
    "df_consumi_casa = df_smart_home_cucina[colonne_interesse_consumi]\n",
    "\n",
    "consumi_totali = df_consumi_casa.sum()\n",
    "\n",
    "#si ordinano i valori \n",
    "consumi_totali_order = consumi_totali.sort_values(ascending=False)\n",
    "\n",
    "print(f\"le aree della casa che consumano di più sono:\\n{consumi_totali_order}\")\n"
   ]
  },
  {
   "cell_type": "markdown",
   "id": "090bf4de",
   "metadata": {},
   "source": [
    "### 2. Con quale condizione atmosferica consumo di più? E con quale di meno?\n"
   ]
  },
  {
   "cell_type": "code",
   "execution_count": null,
   "id": "6b824330",
   "metadata": {},
   "outputs": [],
   "source": [
    "consumo_totale_per_condizione = df_integrato.groupby('summary')[['Home office [kW]', 'Wine cellar [kW]', 'Garage door [kW]', 'Barn [kW]', 'Well [kW]', 'Living room [kW]', 'cucina']].sum()\n",
    "\n",
    "condizione_max_consumo = consumo_totale_per_condizione.sum(axis=1).idxmax()\n",
    "condizione_min_consumo = consumo_totale_per_condizione.sum(axis=1).idxmin()\n",
    "\n",
    "print(f\"con la seguente condizione: {condizione_max_consumo} si ha il consumo max\")\n",
    "print(f\"con la seguente condizione: {condizione_min_consumo} si ha il consumo min\")\n"
   ]
  },
  {
   "cell_type": "markdown",
   "id": "97805d63",
   "metadata": {},
   "source": [
    "### 3. Per quanti giorni abbiamo avuto una situazione chiara?\n"
   ]
  },
  {
   "cell_type": "code",
   "execution_count": null,
   "id": "11214002",
   "metadata": {},
   "outputs": [],
   "source": [
    "situazione_chiara = df_integrato[df_integrato['cielo'] == 'CIELO CHIARO']\n",
    "\n",
    "giorni_chiari = situazione_chiara.groupby('tempo').size()\n",
    "\n",
    "count = len(giorni_chiari)\n",
    "\n",
    "print(f\"Il numero di giorni in cui la situazione è stata chiara è: {count}\")"
   ]
  },
  {
   "cell_type": "markdown",
   "id": "406873bf",
   "metadata": {},
   "source": [
    "### 4. Qual è la media dei consumi per ogni area?\n"
   ]
  },
  {
   "cell_type": "code",
   "execution_count": null,
   "id": "83492cb4",
   "metadata": {},
   "outputs": [],
   "source": [
    "#NOTA: utilizzo il DF definito nella query 1 (df_consumi_casa)\n",
    "\n",
    "consumi_media = df_consumi_casa.mean()\n",
    "\n",
    "print(f\"consumi medii dell'area della casa:\\n{consumi_media}\")\n"
   ]
  },
  {
   "cell_type": "markdown",
   "id": "f07335bc",
   "metadata": {},
   "source": [
    "### 5. In media in quali giorni della settimana consumo di più? E quale area in particolare?\n"
   ]
  },
  {
   "cell_type": "code",
   "execution_count": null,
   "id": "ec94c7f5",
   "metadata": {},
   "outputs": [],
   "source": [
    "df_integrato['giorno_settimana'] = df_integrato['tempo'].dt.day_name()\n",
    "\n",
    "#Raggruppa i dati per giorno della settimana e area: \n",
    "consumi_per_giorno_area = df_integrato.groupby(['giorno_settimana'])[['Home office [kW]', 'Wine cellar [kW]', 'Garage door [kW]', 'Barn [kW]', 'Well [kW]', 'Living room [kW]', 'cucina']].mean()\n",
    "\n",
    "consumi_medi_settimana = consumi_per_giorno_area.idxmax()\n",
    "\n",
    "print(f\"I consumi medi della settimana sono riferiti al giorno e nelle seguenti aree:\\n{consumi_medi_settimana}\")\n"
   ]
  },
  {
   "cell_type": "markdown",
   "id": "d9f7eead",
   "metadata": {},
   "source": [
    "### 6. Per ogni giorno della settimana indicare quale area della casa consuma di più\n"
   ]
  },
  {
   "cell_type": "code",
   "execution_count": null,
   "id": "e9fd4bf0",
   "metadata": {},
   "outputs": [],
   "source": [
    "#NOTA: Si utilizza il raggruppamento definito nel punto di sopra: consumi_per_giorno_area \n",
    "\n",
    "area_massima_per_giorno = consumi_per_giorno_area.idxmax(axis=1)\n",
    "\n",
    "print(f\"area della casa che consuma di più nei giorni:\\n{area_massima_per_giorno}\")\n"
   ]
  },
  {
   "cell_type": "markdown",
   "id": "188cc794",
   "metadata": {},
   "source": [
    "### 7. Quale elettrodomestico della cucina consuma di più?\n"
   ]
  },
  {
   "cell_type": "code",
   "execution_count": null,
   "id": "550db7a6",
   "metadata": {},
   "outputs": [],
   "source": [
    "elettrodomestico = cucina_df.sum()\n",
    "elettrodomestico_massimo = elettrodomestico.idxmax()\n",
    "valore = round(elettrodomestico.max(), 2)\n",
    "\n",
    "print(f\"l'elettrodomestico che consuma di pià nella cucina è: {elettrodomestico_massimo} con il valore {valore} [kW]\")"
   ]
  },
  {
   "cell_type": "markdown",
   "id": "7e8a29d8",
   "metadata": {},
   "source": [
    "### 8. Quale dei due forni consuma di più?\n"
   ]
  },
  {
   "cell_type": "code",
   "execution_count": null,
   "id": "1de821a5",
   "metadata": {},
   "outputs": [],
   "source": [
    "forno_1 = smart_home_df[\"Furnace 1 [kW]\"].sum()\n",
    "forno_2 = smart_home_df[\"Furnace 2 [kW]\"].sum()\n",
    "\n",
    "if(forno_1 > forno_2): \n",
    "    print(\"forno 1 consuma di più con valore.\")\n",
    "else: \n",
    "    print(\"forno 2 consuma di più con valore.\")"
   ]
  },
  {
   "cell_type": "markdown",
   "id": "7c156836",
   "metadata": {},
   "source": [
    "### 9. Quanti kW vengono consumati quando la temperatura è massima? E quali sono i consumi con la temperatura minima?\n"
   ]
  },
  {
   "cell_type": "code",
   "execution_count": null,
   "id": "b10fa699",
   "metadata": {},
   "outputs": [],
   "source": [
    "#trovare temperatura max e min\n",
    "temperatura_max = df_integrato['temperature'].max()\n",
    "temperatura_min = df_integrato['temperature'].min()\n",
    "\n",
    "#Filtrare i dati per le temperature massime e minime:\n",
    "df_temperatura_max = df_consumi_casa.loc[df_integrato['temperature'] == temperatura_max]\n",
    "df_temperatura_min = df_consumi_casa.loc[df_integrato['temperature'] == temperatura_min]\n",
    "\n",
    "#Calcola i consumi per le temperature massime e minime: \n",
    "consumo_max = round(df_temperatura_max.sum().sum(),2)\n",
    "consumo_min = round(df_temperatura_min.sum().sum(),2)\n",
    "\n",
    "print(f\"Vengono consumati {consumo_max} kW quando la temperatura è massima.\")\n",
    "print(f\"Vengono consumati {consumo_min} kW quando la temperatura è minima.\")\n"
   ]
  },
  {
   "cell_type": "markdown",
   "id": "86f93b69",
   "metadata": {},
   "source": [
    "### 10. Stessa domanda della 9 ma considerando la copertura di nuvole massimo e quella minima\n"
   ]
  },
  {
   "cell_type": "code",
   "execution_count": null,
   "id": "91162475",
   "metadata": {},
   "outputs": [],
   "source": [
    "# Trova copertura massima e minima delle nuvole\n",
    "nuvole_max = df_integrato['cloudCover'].max()\n",
    "nuvole_min = df_integrato['cloudCover'].min()\n",
    "\n",
    "# Filtra i dati per le temperature massime e minime e copertura massima e minima delle nuvole\n",
    "df_temp_nuvole_max = df_consumi_casa.loc[(df_integrato['temperature'] == temperatura_max) & (df_integrato['cloudCover'] == nuvole_max)]\n",
    "df_temp_nuvole_min = df_consumi_casa.loc[(df_integrato['temperature'] == temperatura_min) & (df_integrato['cloudCover'] == nuvole_min)]\n",
    "\n",
    "# Calcola i consumi per le temperature massime e minime con copertura massima e minima delle nuvole\n",
    "consumo_max_nuvole = round(df_temp_nuvole_max.sum().sum(), 2)\n",
    "consumo_min_nuvole = round(df_temp_nuvole_min.sum().sum(), 2)\n",
    "\n",
    "print(f\"Vengono consumati {consumo_max_nuvole} kW quando la temperatura è massima e la copertura delle nuvole è massima.\")\n",
    "print(f\"Vengono consumati {consumo_min_nuvole} kW quando la temperatura è minima e la copertura delle nuvole è minima.\")\n"
   ]
  },
  {
   "cell_type": "markdown",
   "id": "5a26e932",
   "metadata": {},
   "source": [
    "### 11. stessa domanda di 9 e 10 ma considerando le precipitazioni massime e minime\n"
   ]
  },
  {
   "cell_type": "code",
   "execution_count": null,
   "id": "ce968c65",
   "metadata": {},
   "outputs": [],
   "source": [
    "# Trova precipitazioni massime e minime\n",
    "precipitazioni_max = df_integrato['precipIntensity'].max()\n",
    "precipitazioni_min = df_integrato['precipIntensity'].min()\n",
    "\n",
    "\n",
    "# Filtra i dati per le temperature massime e minime e copertura massima e minima delle nuvole\n",
    "df_temp_precipitazioni_max = df_consumi_casa.loc[(df_integrato['temperature'] == temperatura_max) & (df_integrato['cloudCover'] == nuvole_max) & (df_integrato['precipIntensity'] == precipitazioni_max)]\n",
    "df_temp_precipitazioni_min = df_consumi_casa.loc[(df_integrato['temperature'] == temperatura_min) & (df_integrato['cloudCover'] == nuvole_min) & (df_integrato['precipIntensity'] == precipitazioni_min)]\n",
    "\n",
    "# Calcola i consumi per le temperature massime e minime con copertura massima e minima delle nuvole\n",
    "consumo_max_prec = round(df_temp_precipitazioni_max.sum().sum(), 2)\n",
    "consumo_min_prec = round(df_temp_precipitazioni_min.sum().sum(), 2)\n",
    "\n",
    "print(f\"Vengono consumati {consumo_max_prec} kW quando la temperatura è massima, la copertura delle nuvole è massima e le precipitazioni sono massime.\")\n",
    "print(f\"Vengono consumati {consumo_min_prec} kW quando la temperatura è minima, la copertura delle nuvole è minima e le precipitazioni sono minime.\")\n",
    "\n"
   ]
  },
  {
   "cell_type": "markdown",
   "id": "a67abe3f",
   "metadata": {},
   "source": [
    "### 12. In quale arco della giornata avviene la produzione massima di energia solare??\n"
   ]
  },
  {
   "cell_type": "code",
   "execution_count": null,
   "id": "76ac5cb9",
   "metadata": {},
   "outputs": [],
   "source": [
    "prod_energia = df_integrato.groupby('tempo')['gen [kW]'].sum()\n",
    "\n",
    "prod_max = prod_energia.idxmax()\n",
    "\n",
    "print(f\"L'arco della giornata in cui avviene la produzione massima di energia solare è alle {prod_max}.\")\n"
   ]
  },
  {
   "cell_type": "markdown",
   "id": "8bf5c6dd",
   "metadata": {},
   "source": [
    "### 13. In quale arco della giornata si consuma di meno?\n"
   ]
  },
  {
   "cell_type": "code",
   "execution_count": null,
   "id": "4098c136",
   "metadata": {},
   "outputs": [],
   "source": [
    "prod_min = prod_energia.idxmin()\n",
    "\n",
    "print(f\"L'arco della giornata in cui avviene la produzione minima di energia solare è alle {prod_min}.\")"
   ]
  },
  {
   "cell_type": "markdown",
   "id": "0a5fa161",
   "metadata": {},
   "source": [
    "### 14. Quanta energia viene prodotta dai pannelli solari quando la temperatura esterna è massima?\n"
   ]
  },
  {
   "cell_type": "code",
   "execution_count": null,
   "id": "05870e7d",
   "metadata": {},
   "outputs": [],
   "source": [
    "produzione_solare_max = round(df_integrato.loc[df_integrato['temperature'] == temperatura_max, 'gen [kW]'].sum(), 2)\n",
    "\n",
    "print(f\"L'energia prodotta dai pannelli solari è {produzione_solare_max} J quando la temperatura esterna è massima.\")\n"
   ]
  },
  {
   "cell_type": "markdown",
   "id": "dcc4eb46",
   "metadata": {},
   "source": [
    "### 15. Quanta energia viene prodotta dai pannelli solari con una copertura di nuvole massima?"
   ]
  },
  {
   "cell_type": "code",
   "execution_count": null,
   "id": "f0d7400f",
   "metadata": {},
   "outputs": [],
   "source": [
    "prod_solare_nuvole = round(df_integrato.loc[df_integrato['cloudCover'] == nuvole_max, 'gen [kW]'].sum(), 2)\n",
    "\n",
    "print(f\"L'energia prodotta dai pannelli solari è {prod_solare_nuvole} J quando la copertura di nuvole è massima.\")\n"
   ]
  },
  {
   "cell_type": "markdown",
   "id": "b7e59f35",
   "metadata": {},
   "source": [
    "# Object Oriented Programming"
   ]
  },
  {
   "cell_type": "markdown",
   "id": "a922bc6d",
   "metadata": {},
   "source": [
    "* Creare una classe python che permetta di effettuare le operazioni di feature engineering e data integration nei punti 1.3 e 1.4\n",
    "* Creare una classe python che incapsuli all'interno di metodi il codice utilizzato per rispondere alle domande del punto 2 (Escluso il codice per effettuare i grafici)"
   ]
  },
  {
   "cell_type": "code",
   "execution_count": null,
   "id": "151e9352",
   "metadata": {},
   "outputs": [],
   "source": [
    "from datetime import datetime\n",
    "\n",
    "#Classe python per creare le feature engineering\n",
    "class TestPOC: \n",
    "    #Parte della Feature Engineering \n",
    "    #1.3.1.a: Definizione di una colonna con i consumi della cucina\n",
    "    column_interest_smart_home = ['id', 'time', 'gen [kW]', 'Home office [kW]', 'Wine cellar [kW]', 'Garage door [kW]', 'Barn [kW]',\n",
    "                             'Well [kW]', 'Living room [kW]', 'Solar [kW]', 'alexa [kW]']\n",
    "\n",
    "    df_smart_home_cucina = smart_home_df[column_interest_smart_home]\n",
    "    \n",
    "    sum_consumi_cucina = cucina_df.sum(axis = 1, skipna = True)\n",
    "    df_consumi_cucina = pd.DataFrame(sum_consumi_cucina)\n",
    "    values_cucina = df_consumi_cucina.iloc[:, 0]\n",
    "    df_smart_home_cucina = df_smart_home_cucina.assign(cucina=values_cucina)\n",
    "    \n",
    "    \n",
    "    #1.3.1.b: Eliminazione delle colonne duplicate\n",
    "    def getDuplicateColumns(df):\n",
    "        lista_colonne_duplicati = set()  \n",
    "        for x in range(df.shape[1]):\n",
    "            col = df.iloc[:, x]\n",
    "            for y in range(x + 1, df.shape[1]):\n",
    "                otherCol = df.iloc[:, y]\n",
    "                if col.equals(otherCol):\n",
    "                    lista_colonne_duplicati.add(df.columns.values[y])\n",
    "        return list(lista_colonne_duplicati)\n",
    "\n",
    "    \n",
    "    col_duplicata = getDuplicateColumns(smart_home_df)\n",
    "    col_duplicata_climate = getDuplicateColumns(climate_df)\n",
    "    \n",
    "    df_smart_home_cucina = df_smart_home_cucina.drop(col_duplicata, axis = 1)\n",
    "    climate_df = climate_df.drop(col_duplicata_climate, axis = 1)\n",
    "\n",
    "    #1.3.c: Definizione di una colonna che con i consumi dei soli forni \n",
    "    column_forno_micro = ['Furnace 1 [kW]', 'Furnace 2 [kW]','Microwave [kW]']\n",
    "    df_forno_micro = smart_home_df[column_forno_micro]\n",
    "    sum_forno_micro = df_forno_micro.sum(axis = 1, skipna = True)\n",
    "    df_smart_home_cucina = df_smart_home_cucina.assign(forno_micro=sum_forno_micro)\n",
    "    \n",
    "    #1.3.1.d: Definizione di una colonna con i valori del cielo in base a un range ben definito\n",
    "    def categorizza_cloud_cover(valore):\n",
    "        if 0 <= valore <= 0.30:\n",
    "            return 'CIELO CHIARO'\n",
    "        elif 0.31 <= valore <= 0.60:\n",
    "            return 'LEGGIAMENTE COPERTO'\n",
    "        elif 0.61 <= valore <= 1:\n",
    "            return 'CIELO COPERTO'\n",
    "        else:\n",
    "            return 'Valore non valido'\n",
    "    \n",
    "    cielo = climate_df['cloudCover'].apply(categorizza_cloud_cover)\n",
    "    climate_df = climate_df.assign(cielo=cielo)\n",
    "    \n",
    "    #1.3.1.e: Calcolo della percentuale dell'energia generata sul totale consumato\n",
    "    column_interest_consumi = ['Home office [kW]', 'Wine cellar [kW]', 'Garage door [kW]', 'Barn [kW]',\n",
    "                             'Well [kW]', 'Living room [kW]', 'alexa [kW]', 'cucina']\n",
    "    df_smart_home_consumi_tot = df_smart_home_cucina[column_interest_consumi]\n",
    "    sum_consumi_tot = df_smart_home_consumi_tot.sum(axis = 1, skipna = True)\n",
    "    percentuale = (df_smart_home_cucina['gen [kW]'] / sum_consumi_tot.sum()) * 100 \n",
    "    print(f\"la percentuale di energia generata sul totale dei consumi è:\\n{percentuale}\")\n",
    "    \n",
    "\n",
    "    #1.3.3 Gestione dei valori Null \n",
    "    #Eliminazione della colonna Alexa: \n",
    "    df_smart_home_cucina = df_smart_home_cucina.drop(['alexa [kW]'], axis = 1)\n",
    "\n",
    "    #Eliminazione delle righe con il valore null: \n",
    "    df_smart_home_cucina = df_smart_home_cucina.dropna(how='any')\n",
    "    \n",
    "    #1.3.2 Formatazzione del tempo nel formato desiderato\n",
    "    df_form = pd.DataFrame()\n",
    "    def formattazione_tempo(valore): \n",
    "        try:\n",
    "            datetime_object = datetime.strptime(valore, '%Y-%m-%d %H:%M:%S')\n",
    "        except ValueError:\n",
    "            datetime_object = datetime.fromtimestamp(int(valore))\n",
    "        return datetime_object\n",
    "\n",
    "    df_smart_home_cucina[\"tempo\"] = df_smart_home_cucina['time'].apply(formattazione_tempo)\n",
    "    climate_df[\"tempo\"] = climate_df['time'].apply(formattazione_tempo)\n",
    "\n",
    "    #Eliminazione della colonna \"time\" che è stata già trasformata nella colonna \"tempo\"\n",
    "    df_smart_home_cucina = df_smart_home_cucina.drop(['time'], axis = 1)\n",
    "    climate_df = climate_df.drop(['time'], axis = 1)\n",
    "    \n",
    "    #--------------------------------------------\n",
    "    #1.4 Data Integration \n",
    "    df_integrato = df_smart_home_cucina.merge(climate_df, on=\"tempo\")\n",
    "    print(f\"Stampa del DataFrame dopo la Data Integration:\\n{df_integrato}\")\n",
    "    \n",
    "    "
   ]
  },
  {
   "cell_type": "code",
   "execution_count": 121,
   "id": "bab735e1",
   "metadata": {},
   "outputs": [
    {
     "name": "stdout",
     "output_type": "stream",
     "text": [
      "<class 'type'>\n"
     ]
    }
   ],
   "source": [
    "#Classe python per la creazione dei metodi per le query \n",
    "class QueryTest: \n",
    "    \n",
    "    #metodo di utilità per definire un DF che viene utilizzato più volte \n",
    "    def consumi_casa(self, df_smart_home_cucina): \n",
    "        colonne_interesse_consumi = [\"Home office [kW]\", \"Wine cellar [kW]\", \"Garage door [kW]\", \"Barn [kW]\", \"Well [kW]\",\n",
    "                             \"Living room [kW]\", \"cucina\"]\n",
    "        df_consumi_casa = df_smart_home_cucina[colonne_interesse_consumi]\n",
    "        return df_consumi_casa \n",
    "    \n",
    "    #1. Quali aree della casa consumano di più?\n",
    "    def consumo_casa(self, df_consumi_casa): \n",
    "        consumi_totali = df_consumi_casa.sum()\n",
    "        consumi_totali_order = consumi_totali.sort_values(ascending=False)\n",
    "        return f\"le aree della casa che consumano di più sono:\\n{consumi_totali_order}\\n\"\n",
    "    \n",
    "    #2. Con quale condizione atmosferica consumo di più? E con quale di meno?\n",
    "    def consumo_atmosferico(self, df_integrato): \n",
    "        consumo_totale_per_condizione = df_integrato.groupby('summary')[['Home office [kW]', 'Wine cellar [kW]', 'Garage door [kW]', 'Barn [kW]', 'Well [kW]', 'Living room [kW]', 'cucina']].sum()\n",
    "        list_return = []\n",
    "        condizione_max_consumo = consumo_totale_per_condizione.sum(axis=1).idxmax()\n",
    "        condizione_min_consumo = consumo_totale_per_condizione.sum(axis=1).idxmin()\n",
    "\n",
    "        list_return.append(condizione_max_consumo)\n",
    "        list_return.append(condizione_min_consumo)\n",
    "        return list_return \n",
    "    \n",
    "    #3. Per quanti giorni abbiamo avuto una situazione chiara?\n",
    "    def situazione_chiara(self, df_integrato): \n",
    "        situazione_chiara = df_integrato[df_integrato['cielo'] == 'CIELO CHIARO']\n",
    "        giorni_chiari = situazione_chiara.groupby('tempo').size()\n",
    "        count = len(giorni_chiari)\n",
    "        return f\"Il numero di giorni in cui la situazione è stata chiara è: {count}\\n\"\n",
    "    \n",
    "    #4. Qual è la media dei consumi per ogni area? \n",
    "    def media_consumi_area(self, df_consumi_casa): \n",
    "        consumi_media = df_consumi_casa.mean()\n",
    "        return f\"consumi medii dell'area della casa:\\n{consumi_media}\"\n",
    "    \n",
    "    #5. In media in quali giorni della settimana consumo di più? E quale area in particolare?\n",
    "    def media_consumi_settimana(self, df_integrato): \n",
    "        df_integrato['giorno_settimana'] = df_integrato['tempo'].dt.day_name()\n",
    "        consumi_per_giorno_area = df_integrato.groupby(['giorno_settimana'])[['Home office [kW]', 'Wine cellar [kW]', 'Garage door [kW]', 'Barn [kW]', 'Well [kW]', 'Living room [kW]', 'cucina']].mean()\n",
    "        consumi_medi_settimana = consumi_per_giorno_area.idxmax()\n",
    "        return f\"I consumi medi della settimana sono riferiti al giorno e nelle seguenti aree:\\n{consumi_medi_settimana}\\n\"\n",
    "    \n",
    "    #6. Per ogni giorno della settimana indicare quale area della casa consuma di più\n",
    "    def consumi_giorni(self, df_integrato): \n",
    "        consumi_per_giorno_area = df_integrato.groupby(['giorno_settimana'])[['Home office [kW]', 'Wine cellar [kW]', 'Garage door [kW]', 'Barn [kW]', 'Well [kW]', 'Living room [kW]', 'cucina']].mean()\n",
    "        area_massima_per_giorno = consumi_per_giorno_area.idxmax(axis=1)\n",
    "        return f\"area della casa che consuma di più nei giorni:\\n{area_massima_per_giorno}\"\n",
    "    \n",
    "    #7. Quale elettrodomestico della cucina consuma di più? \n",
    "    def consumo_elettrodomestico(self, cucina_df): \n",
    "        elettrodomestico = cucina_df.sum()\n",
    "        elettrodomestico_massimo = elettrodomestico.idxmax()\n",
    "        valore = round(elettrodomestico.max(), 2)\n",
    "        return f\"l'elettrodomestico che consuma di pià nella cucina è: {elettrodomestico_massimo} con il valore {valore} [kW]\"\n",
    "    \n",
    "    #8. Quale dei due forni consuma di più? \n",
    "    def consumo_forni(self, smart_home_df): \n",
    "        forno_1 = smart_home_df[\"Furnace 1 [kW]\"].sum()\n",
    "        forno_2 = smart_home_df[\"Furnace 2 [kW]\"].sum()\n",
    "        if(forno_1 > forno_2): \n",
    "            return \"forno_1\"\n",
    "        return \"forno_2\"\n",
    "    \n",
    "    #9. Quanti kW vengono consumati quando la temperatura è massima? E quali sono i consumi con la temperatura minima?\n",
    "    def consumo_kw_temp(self, df_integrato, df_consumi_casa):\n",
    "        list_consumi = []\n",
    "        temperatura_max = df_integrato['temperature'].max()\n",
    "        temperatura_min = df_integrato['temperature'].min()\n",
    "        \n",
    "        df_temperatura_max = df_consumi_casa.loc[df_integrato['temperature'] == temperatura_max]\n",
    "        df_temperatura_min = df_consumi_casa.loc[df_integrato['temperature'] == temperatura_min]\n",
    "        \n",
    "        consumo_max = round(df_temperatura_max.sum().sum(),2)\n",
    "        consumo_min = round(df_temperatura_min.sum().sum(),2)\n",
    "        list_consumi.append(consumo_max, consumo_min)\n",
    "        return list_consumi \n",
    "    \n",
    "    #10. Stessa domanda della 9 ma considerando la copertura di nuvole massimo e quella minima \n",
    "    def consumi_kw_nuvole(self, df_integrato, df_consumi_casa):\n",
    "        list_consumi = []\n",
    "        \n",
    "        temperatura_max = df_integrato['temperature'].max()\n",
    "        temperatura_min = df_integrato['temperature'].min()\n",
    "        nuvole_max = df_integrato['cloudCover'].max()\n",
    "        nuvole_min = df_integrato['cloudCover'].min()\n",
    "\n",
    "        df_temp_nuvole_max = df_consumi_casa.loc[(df_integrato['temperature'] == temperatura_max) & (df_integrato['cloudCover'] == nuvole_max)]\n",
    "        df_temp_nuvole_min = df_consumi_casa.loc[(df_integrato['temperature'] == temperatura_min) & (df_integrato['cloudCover'] == nuvole_min)]\n",
    "\n",
    "        consumo_max_nuvole = round(df_temp_nuvole_max.sum().sum(), 2)\n",
    "        consumo_min_nuvole = round(df_temp_nuvole_min.sum().sum(), 2)\n",
    "        list_consumi.add(consumo_max_nuvole, consumo_min_nuvole)\n",
    "        return list_consumi\n",
    "    \n",
    "    #11. stessa domanda di 9 e 10 ma considerando le precipitazioni massime e minime\n",
    "    def consumi_kw_precipitazioni(self, df_integrato, df_consumi_casa): \n",
    "        list_consumi = []\n",
    "        temperatura_max = df_integrato['temperature'].max()\n",
    "        temperatura_min = df_integrato['temperature'].min()\n",
    "        nuvole_max = df_integrato['cloudCover'].max()\n",
    "        nuvole_min = df_integrato['cloudCover'].min()\n",
    "        precipitazioni_max = df_integrato['precipIntensity'].max()\n",
    "        precipitazioni_min = df_integrato['precipIntensity'].min()\n",
    "        \n",
    "        df_temp_precipitazioni_max = df_consumi_casa.loc[(df_integrato['temperature'] == temperatura_max) & (df_integrato['cloudCover'] == nuvole_max) & (df_integrato['precipIntensity'] == precipitazioni_max)]\n",
    "        df_temp_precipitazioni_min = df_consumi_casa.loc[(df_integrato['temperature'] == temperatura_min) & (df_integrato['cloudCover'] == nuvole_min) & (df_integrato['precipIntensity'] == precipitazioni_min)]\n",
    "\n",
    "        consumo_max_prec = round(df_temp_precipitazioni_max.sum().sum(), 2)\n",
    "        consumo_min_prec = round(df_temp_precipitazioni_min.sum().sum(), 2)\n",
    "        \n",
    "        list_consumi.add(consumo_max_prec, consumo_min_prec)\n",
    "        return list_consumi \n",
    "    \n",
    "    #12. In quale arco della giornata avviene la produzione massima di energia solare?? \n",
    "    def produzione_solare(self, df_integrato): \n",
    "        prod_energia = df_integrato.groupby('tempo')['gen [kW]'].sum()\n",
    "        prod_max = prod_energia.idxmax()\n",
    "        return f\"L'arco della giornata in cui avviene la produzione massima di energia solare è alle {prod_max}.\" \n",
    "    \n",
    "    #13. In quale arco della giornata si consuma di meno? \n",
    "    def consumi_minori(self, df_integrato): \n",
    "        prod_energia = df_integrato.groupby('tempo')['gen [kW]'].sum()\n",
    "        prod_min = prod_energia.idxmin()\n",
    "        return f\"L'arco della giornata in cui avviene la produzione minima di energia solare è alle {prod_min}.\"\n",
    "    \n",
    "    #14. Quanta energia viene prodotta dai pannelli solari quando la temperatura esterna è massima? \n",
    "    def energia_prodotta_panelli(self, df_integrato):\n",
    "        temperatura_max = df_integrato['temperature'].max()\n",
    "        produzione_solare_max = round(df_integrato.loc[df_integrato['temperature'] == temperatura_max, 'gen [kW]'].sum(), 2)\n",
    "        return f\"L'energia prodotta dai pannelli solari è {produzione_solare_max} J quando la temperatura esterna è massima.\"\n",
    "    \n",
    "    #15. Quanta energia viene prodotta dai pannelli solari con una copertura di nuvole massima? \n",
    "    def energia_panelli_nuvole(self, df_integrato): \n",
    "        nuvole_max = df_integrato['cloudCover'].max()\n",
    "        prod_solare_nuvole = round(df_integrato.loc[df_integrato['cloudCover'] == nuvole_max, 'gen [kW]'].sum(), 2)\n",
    "        return f\"L'energia prodotta dai pannelli solari è {prod_solare_nuvole} J quando la copertura di nuvole è massima.\"\n",
    "    \n",
    "print(type(QueryTest))\n",
    "#--------------------------------------------------------------------------------------------\n",
    "\n"
   ]
  },
  {
   "cell_type": "markdown",
   "id": "8480db3f",
   "metadata": {},
   "source": [
    "**N.B:** Oltre alla definizione delle classe dovrete indicare in una cella la lista di comandi da eseguire per rispondere alle domande del punto 2"
   ]
  },
  {
   "cell_type": "code",
   "execution_count": 123,
   "id": "c62a9afe",
   "metadata": {},
   "outputs": [
    {
     "name": "stdout",
     "output_type": "stream",
     "text": [
      "1. Quali aree della casa consumano di più?\n",
      "le aree della casa che consumano di più sono:\n",
      "cucina              177217.204864\n",
      "Home office [kW]     40961.277962\n",
      "Barn [kW]            29493.633696\n",
      "Wine cellar [kW]     21233.079320\n",
      "Living room [kW]     17794.476716\n",
      "Well [kW]             7882.163852\n",
      "Garage door [kW]      7124.847316\n",
      "dtype: float64\n",
      "\n",
      "\n",
      "2. Con quale condizione atmosferica consumo di più? E con quale di meno?\n",
      "con la seguente condizione: Clear si ha il consumo max\n",
      "con la seguente condizione: Dry si ha il consumo min\n",
      "\n",
      "\n",
      "3. Per quanti giorni abbiamo avuto una situazione chiara?\n",
      "Il numero di giorni in cui la situazione è stata chiara è: 380826\n",
      "\n",
      "\n",
      "4. Qual è la media dei consumi per ogni area?\n",
      "consumi medii dell'area della casa:\n",
      "Home office [kW]    0.081287\n",
      "Wine cellar [kW]    0.042137\n",
      "Garage door [kW]    0.014139\n",
      "Barn [kW]           0.058530\n",
      "Well [kW]           0.015642\n",
      "Living room [kW]    0.035313\n",
      "cucina              0.351684\n",
      "dtype: float64\n",
      "\n",
      "5. In media in quali giorni della settimana consumo di più?\n",
      "I consumi medi della settimana sono riferiti al giorno e nelle seguenti aree:\n",
      "Home office [kW]       Monday\n",
      "Wine cellar [kW]       Monday\n",
      "Garage door [kW]    Wednesday\n",
      "Barn [kW]              Friday\n",
      "Well [kW]            Saturday\n",
      "Living room [kW]     Thursday\n",
      "cucina                 Friday\n",
      "dtype: object\n",
      "\n",
      "\n",
      "6. Per ogni giorno della settimana indicare quale area della casa consuma di più\n",
      "area della casa che consuma di più nei giorni:\n",
      "giorno_settimana\n",
      "Friday       cucina\n",
      "Monday       cucina\n",
      "Saturday     cucina\n",
      "Sunday       cucina\n",
      "Thursday     cucina\n",
      "Tuesday      cucina\n",
      "Wednesday    cucina\n",
      "dtype: object\n",
      "\n",
      "7. Quale elettrodomestico della cucina consuma di più?\n",
      "l'elettrodomestico che consuma di pià nella cucina è: Furnace 2 [kW] con il valore 68924.4 [kW]\n",
      "\n",
      "8. Quale dei due forni consuma di più?\n",
      "Il forno che consuma di più è: forno_2\n"
     ]
    },
    {
     "data": {
      "text/plain": [
       "'\\nprint(\"\\n9. Quanti kW vengono consumati quando la temperatura è massima? E quali sono i consumi con la temperatura minima?\")\\nconsumo_kw_temp = query.consumo_kw_temp(df_integrato, df_consumi_casa)\\nprint(f\"Consumo quando la temperatura è massima: {consumo_kw_temp[0]} kW\")\\nprint(f\"Consumo quando la temperatura è minima: {consumo_kw_temp[1]} kW\")\\n\\nprint(\"\\n10. Stessa domanda della 9 ma considerando la copertura di nuvole massimo e quella minima\")\\nconsumo_kw_nuvole = query.consumi_kw_nuvole(df_climate_data, consumi_casa_df)\\nprint(f\"Consumo con temperatura massima e copertura di nuvole massima: {consumo_kw_nuvole[0]} kW\")\\nprint(f\"Consumo con temperatura minima e copertura di nuvole minima: {consumo_kw_nuvole[1]} kW\")\\n\\nprint(\"\\n11. Stessa domanda di 9 e 10 ma considerando le precipitazioni massime e minime\")\\nconsumo_kw_precipitazioni = query.consumi_kw_precipitazioni(df_climate_data, consumi_casa_df)\\nprint(f\"Consumo con temperatura massima, copertura di nuvole massima e precipitazioni massime: {consumo_kw_precipitazioni[0]} kW\")\\nprint(f\"Consumo con temperatura minima, copertura di nuvole minima e precipitazioni minime: {consumo_kw_precipitazioni[1]} kW\")\\n\\nprint(\"\\n12. In quale arco della giornata avviene la produzione massima di energia solare?\")\\nprint(query.produzione_solare(df_smart_home_cucina))\\n\\nprint(\"\\n13. In quale arco della giornata si consuma di meno?\")\\nprint(query.consumi_minori(df_smart_home_cucina))\\n\\nprint(\"\\n14. Quanta energia viene prodotta dai pannelli solari quando la temperatura è massima?\")\\nprint(query.energia_prodotta_panelli(df_climate_data))\\n\\nprint(\"\\n15. Quanta energia viene prodotta dai pannelli solari con una copertura di nuvole massima?\")\\nprint(query.energia_panelli_nuvole(df_climate_data))\\n'"
      ]
     },
     "execution_count": 123,
     "metadata": {},
     "output_type": "execute_result"
    }
   ],
   "source": [
    "# Importa le librerie necessarie\n",
    "import pandas as pd\n",
    "\n",
    "# Crea un'istanza della classe Query\n",
    "query = QueryTest()\n",
    "\n",
    "# Richiama i metodi desiderati\n",
    "consumi_casa_df = query.consumi_casa(df_smart_home_cucina)\n",
    "\n",
    "print(\"1. Quali aree della casa consumano di più?\")\n",
    "print(query.consumo_casa(consumi_casa_df))\n",
    "\n",
    "print(\"\\n2. Con quale condizione atmosferica consumo di più? E con quale di meno?\")\n",
    "lista = query.consumo_atmosferico(df_integrato) \n",
    "print(f\"con la seguente condizione: {lista[0]} si ha il consumo max\")\n",
    "print(f\"con la seguente condizione: {lista[1]} si ha il consumo min\\n\")\n",
    "\n",
    "print(\"\\n3. Per quanti giorni abbiamo avuto una situazione chiara?\")\n",
    "print(query.situazione_chiara(df_integrato))\n",
    "\n",
    "print(\"\\n4. Qual è la media dei consumi per ogni area?\")\n",
    "print(query.media_consumi_area(consumi_casa_df))\n",
    "\n",
    "print(\"\\n5. In media in quali giorni della settimana consumo di più?\")\n",
    "print(query.media_consumi_settimana(df_integrato))\n",
    "\n",
    "print(\"\\n6. Per ogni giorno della settimana indicare quale area della casa consuma di più\")\n",
    "print(query.consumi_giorni(df_integrato))\n",
    "\n",
    "print(\"\\n7. Quale elettrodomestico della cucina consuma di più?\")\n",
    "print(query.consumo_elettrodomestico(cucina_df))\n",
    "\n",
    "print(\"\\n8. Quale dei due forni consuma di più?\")\n",
    "print(\"Il forno che consuma di più è:\", query.consumo_forni(smart_home_df))\n",
    "\"\"\"\n",
    "print(\"\\n9. Quanti kW vengono consumati quando la temperatura è massima? E quali sono i consumi con la temperatura minima?\")\n",
    "consumo_kw_temp = query.consumo_kw_temp(df_integrato, df_consumi_casa)\n",
    "print(f\"Consumo quando la temperatura è massima: {consumo_kw_temp[0]} kW\")\n",
    "print(f\"Consumo quando la temperatura è minima: {consumo_kw_temp[1]} kW\")\n",
    "\n",
    "print(\"\\n10. Stessa domanda della 9 ma considerando la copertura di nuvole massimo e quella minima\")\n",
    "consumo_kw_nuvole = query.consumi_kw_nuvole(df_climate_data, consumi_casa_df)\n",
    "print(f\"Consumo con temperatura massima e copertura di nuvole massima: {consumo_kw_nuvole[0]} kW\")\n",
    "print(f\"Consumo con temperatura minima e copertura di nuvole minima: {consumo_kw_nuvole[1]} kW\")\n",
    "\n",
    "print(\"\\n11. Stessa domanda di 9 e 10 ma considerando le precipitazioni massime e minime\")\n",
    "consumo_kw_precipitazioni = query.consumi_kw_precipitazioni(df_climate_data, consumi_casa_df)\n",
    "print(f\"Consumo con temperatura massima, copertura di nuvole massima e precipitazioni massime: {consumo_kw_precipitazioni[0]} kW\")\n",
    "print(f\"Consumo con temperatura minima, copertura di nuvole minima e precipitazioni minime: {consumo_kw_precipitazioni[1]} kW\")\n",
    "\n",
    "print(\"\\n12. In quale arco della giornata avviene la produzione massima di energia solare?\")\n",
    "print(query.produzione_solare(df_smart_home_cucina))\n",
    "\n",
    "print(\"\\n13. In quale arco della giornata si consuma di meno?\")\n",
    "print(query.consumi_minori(df_smart_home_cucina))\n",
    "\n",
    "print(\"\\n14. Quanta energia viene prodotta dai pannelli solari quando la temperatura è massima?\")\n",
    "print(query.energia_prodotta_panelli(df_climate_data))\n",
    "\n",
    "print(\"\\n15. Quanta energia viene prodotta dai pannelli solari con una copertura di nuvole massima?\")\n",
    "print(query.energia_panelli_nuvole(df_climate_data))\n",
    "\"\"\"\n"
   ]
  },
  {
   "cell_type": "markdown",
   "id": "4dbb2ef6",
   "metadata": {},
   "source": [
    "# 3. Versioning\n",
    "\n",
    "Elencate nella cella sottostante i comandi necessari per:\n",
    "1. Creare in una cartella vuota un nuovo repository git\n",
    "\n",
    "Immaginate di copia-incollare il notebook ultimato nella cartella in questione\n",
    "\n",
    "2. Eseguire il primo commit\n",
    "4. Indicare che il repository ipotetico https://github.com/myuser/myrepo.git è il repository remoto che vogliamo sincronizzare d'ora in avanti con le modifiche che effttueremo in locale\n",
    "5. sincronizzare le modifiche eseguite in locale con il repository remoto"
   ]
  },
  {
   "cell_type": "markdown",
   "id": "06cf68f0",
   "metadata": {},
   "source": [
    "# 4. Save\n",
    "\n",
    "Inviare ai referenti del recruiting Edison il seguente materiale:\n",
    "1. Questo notebook, con tutti gli output delle varie celle visibili, in **formato HTML**\n",
    "2. Questo notebook, in **formato .ipynb**, salvato dopo avere eseguito \"Clear Output\"\n",
    "\n",
    "L'esaminatore dovrebbe essere in grado di eseguire tutte le celle del notebook avendo a disposizione i due file CSV forniti all'inizio della prova e avendo ricreato l'environment da voi indicato."
   ]
  },
  {
   "cell_type": "code",
   "execution_count": null,
   "id": "6d6904fc",
   "metadata": {},
   "outputs": [],
   "source": []
  }
 ],
 "metadata": {
  "kernelspec": {
   "display_name": "Python 3 (ipykernel)",
   "language": "python",
   "name": "python3"
  },
  "language_info": {
   "codemirror_mode": {
    "name": "ipython",
    "version": 3
   },
   "file_extension": ".py",
   "mimetype": "text/x-python",
   "name": "python",
   "nbconvert_exporter": "python",
   "pygments_lexer": "ipython3",
   "version": "3.11.5"
  }
 },
 "nbformat": 4,
 "nbformat_minor": 5
}
