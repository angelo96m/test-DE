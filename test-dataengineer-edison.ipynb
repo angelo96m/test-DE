{
 "cells": [
  {
   "cell_type": "markdown",
   "id": "f5e177c2",
   "metadata": {},
   "source": [
    "# RECRUITING SENIOR DATA ENGINEER - EDISON SPA\n",
    "## Test di valutazione: data processing and coding skills\n",
    "\n",
    "In questo test verrà richiesto lo sviluppo di una Proof of Concept per definire un flusso di elaborazione e analisi dei dati. Questo caso d'uso riguarda i consumi energetici di una smart home. In particolare, si avranno a disposizione due dataset:\n",
    "* Smart Home (home-data-consumes-raw.csv): contiene tutti i dati dei consumi energetici di una casa nell'arco di una settimana.\n",
    "* Dati climatici (climate-data.csv): contiene tutti i dati relativi al clima della stessa area geografica della smart home."
   ]
  },
  {
   "cell_type": "markdown",
   "id": "f3c03fcc",
   "metadata": {},
   "source": [
    "# Consigli di carattere generale\n",
    "\n",
    "1. **Commentare il codice**, specialmente classi e funzioni utilizzando delle *docstrings*, aiuterà chiunque lavori in futuro a questo progetto a comprendere meglio il lavoro svolto\n",
    "2. Quando vengono generate nuove features o variabili d'appoggio, dare **nomi concisi ma parlanti** permette una migliore comprensione del codice a chi si approcci per la prima volta al problema\n",
    "3. Non esiste per forza un approccio giusto o sbagliato, potete aggiungere spiegazioni e **commenti** ad integrazioni delle vostre scelte\n",
    "4. Non è richiesto lo sviluppo di modelli di deep learning ad elevata complessità o l'utilizzo di librerie esotiche, il test è mirato a stabilire alcune **competenze di base** che risultano utili nel lavoro in team e nello sviluppo di un codice production-ready.\n",
    "5. Al fine di completare il test in un lasso di tempo breve, si consiglia di concentrare i propri sforzi sul testare poche soluzioni valide per una **PoC iniziale**, commentarle ed eventualmente giustificare eventuali semplificazioni introdotte"
   ]
  },
  {
   "cell_type": "markdown",
   "id": "abfa0659",
   "metadata": {},
   "source": [
    "# Obiettivo e descrizione del problema\n",
    "\n",
    "Il progetto ha lo scopo di analizzare i consumi di una smart home cercando di individuare le aree che consumano di più e ottimizzarne i consumi anche in relazione alle condizioni climatiche esterne alla casa. Per evitare di andare fuori contesto rispondere semplicemente alle seguenti domande:\n",
    "\n",
    "1. Quali aree della casa consumano di più?\n",
    "2. Con quale condizione atmosferica consumo di più? E con quale di meno?\n",
    "3. Per quanti giorni abbiamo avuto una situazione chiara?\n",
    "4. Qual è la media dei consumi per ogni area?\n",
    "5. In media in quali giorni della settimana consumo di più? E quale area in particolare?\n",
    "6. Per ogni giorno della settimana indicare quale area della casa consuma di più\n",
    "7. Quale elettrodomestico della cucina consuma di più?\n",
    "8. Quale dei due forni consuma di più?\n",
    "9. Quanti kW vengono consumati quando la temperatura è massima? E quali sono i consumi con la temperatura minima?\n",
    "10. Stessa domanda della 9 ma considerando la copertura di nuvole massimo e quella minima\n",
    "11. stessa domanda di 9 e 10 ma considerando le precipitazioni massime e minime\n",
    "12. In quale arco della giornata avviene la produzione massima di energia solare??\n",
    "13. In quale arco della giornata si consuma di meno?\n",
    "14. Quanta energia viene prodotta dai pannelli solari quando la temperatura esterna è massima?\n",
    "15. Quanta energia viene prodotta dai pannelli solari con una copertura di nuvole massima?\n",
    "\n",
    "Quanto possibile utilizzare grafici per rispondere alle domande\n",
    "    \n"
   ]
  },
  {
   "cell_type": "markdown",
   "id": "7bd00998",
   "metadata": {},
   "source": [
    "# Descrizione Dataset\n",
    "\n",
    "**home-data-consumes-raw.csv:**\n",
    "* **Time:** Timestamp della misurazione. E' in secondi, andrebbe trasformato in datetime\n",
    "* **Gen:** Corrente generata\n",
    "* **Dishwasher:** Corrente consumata dalla lavastoviglie, si può immaginare che sia in cucina\n",
    "* **Furnace 1:** Corrente consumata da uno dei forni\n",
    "* **Furnace 2:** Corrente consumata dal secondo forno\n",
    "* **Wine Cellar:** Corrente consumata dalla cantina\n",
    "* **Garage door:** Corrente consumata dalla porta del garage\n",
    "* **Kitchen 12:** Corrente consumata da un elettrodomestico della cucina\n",
    "* **Kitchen 14:** Corrente consumata da un elettrodomestico della cucina\n",
    "* **Kitchen 38:** Corrente consumata da un elettrodomestico della cucina\n",
    "* **Barn:** Corrente consumata dal fienile\n",
    "* **Well:** Corrente consumata dal bagno\n",
    "* **Mirowave:** Corrente consumata dal microonde (molto probabilmente sarà posizionato in cucina)\n",
    "* **Living room:** Corrente consumata nel soggiorno\n",
    "* **Solar:** Energia prodotta dai pannelli solari installati sulla casa\n",
    "\n",
    "**climate-data.csv:**\n",
    "* **Temperature:** Temperatura fuori dalla casa in gradi Celsius\n",
    "* **Humidity:** Umidità dell'aria\n",
    "* **Visibility:** Visibilità\n",
    "* **Summary:** Variabile categorica che indica in generale com'è il tempo\n",
    "* **Pressure:** pressione\n",
    "* **Wind Speed:** velocità del vento penso in m/s\n",
    "* **Cloud Cover:** Copertura del cielo dalle nuvole. Si misura in oktas, i valori spaziano da 0 a 1, 0 rappresenta assenza completa di nuove e 1 cielo coperto da nuvole\n",
    "* **Precip Intensity:** Intensità delle precipitazioni (in mm)\n",
    "* **PrecipProbability:** Probabilità di precipitazioni"
   ]
  },
  {
   "cell_type": "markdown",
   "id": "d8260749",
   "metadata": {},
   "source": [
    "# Fasi preprocessing\n",
    "Questi sono dei suggerimenti su come procedere nelle prime fasi di analisi e processing del dataset. Tuttavia, si tratta di suggerimenti, non si è limitati solo a questi task.\n",
    "\n",
    "1. Feature Engineering: \n",
    "        a. definire una nuova colonna che comprenda i consumi totali della cucina\n",
    "        b. Ci sono due colonne che forniscono la stessa informazione, rimuoverne una\n",
    "        c. Definire una nuova colonna che comprenda i consumi dei forni e del microonde\n",
    "        d. Definire una nuova colonna categorica basata su Cloud Cover. Valori da (0, 0.30) => CIELO CHIARO, valori da (0.31, 0.60) => LEGGERMENTE COPERTO, valori (0.61, 1) => CIELO COPERTO\n",
    "        e. calcolare la percentuale di energia generata sul totale consumato\n",
    "2. Il tempo è nel formato timestamp, trasformarlo nel giusto formato YYYY-MM-DD HH:mm:SS\n",
    "3. Controllare in generale che tutte le colonne siano nel loro giusto formato\n",
    "4. Gestire i valori Null"
   ]
  },
  {
   "cell_type": "markdown",
   "id": "c2310489",
   "metadata": {},
   "source": [
    "# Inizio lavori"
   ]
  },
  {
   "cell_type": "code",
   "execution_count": 35,
   "id": "afa73855",
   "metadata": {},
   "outputs": [],
   "source": [
    "# Import delle librerie\n",
    "# import...\n",
    "import pandas as pd\n",
    "import matplotlib.pyplot as plt\n",
    "import seaborn as sns\n",
    "import numpy as np\n",
    "import datetime\n",
    "import os "
   ]
  },
  {
   "cell_type": "markdown",
   "id": "e232ec94",
   "metadata": {},
   "source": [
    "# 1. Pre-processing\n",
    "\n",
    "Analizzare i dataset e trasformare le feauteres nel giusto formato."
   ]
  },
  {
   "cell_type": "code",
   "execution_count": 36,
   "id": "9e8d030e",
   "metadata": {},
   "outputs": [],
   "source": [
    "# lettura dati\n",
    "# ...\n",
    "CLIMATE_DATA_PATH = 'data/climate-data.csv'\n",
    "SMART_HOME_PATH = 'data/smart-home-data-raw.csv'\n",
    "\n",
    "# Creazione del DataFrame di climate-data definendo lo schema\n",
    "schema_climate = {'id': 'int', 'time': 'str', 'temperature': 'float', 'humidity': 'float', 'visibility': 'float', 'summary': 'str',\n",
    "         'pressure': 'float', 'windSpeed': 'float', 'cloudCover': 'float', 'precipIntensity': 'float', 'precipProbability': 'float'} \n",
    "\n",
    "climate_df = pd.read_csv(CLIMATE_DATA_PATH, dtype=schema_climate)\n",
    "\n",
    "\n",
    "# Creazione del DataFrame di smart-home definendo lo schema\n",
    "schema_smart_home = {'id': 'int', 'time': 'str', 'gen [kW]': 'float', 'Dishwasher [kW]': 'float', 'Furnace 1 [kW]': 'float', 'Furnace 2 [kW]': 'float',\n",
    "         'Home office [kW]': 'float', 'Fridge [kW]': 'float', 'Wine cellar [kW]': 'float', 'Garage door [kW]': 'float', 'Kitchen 12 [kW]': 'float',\n",
    "         'Kitchen 14 [kW]': 'float',  'Kitchen 38 [kW]': 'float', 'Barn [kW]': 'float','Well [kW]': 'float','Microwave [kW]': 'float','Living room [kW]': 'float',\n",
    "         'Solar [kW]': 'float', 'alexa [kW]': 'float'} \n",
    "\n",
    "smart_home_df = pd.read_csv(SMART_HOME_PATH, dtype=schema_smart_home)\n"
   ]
  },
  {
   "cell_type": "markdown",
   "id": "d3ef540b",
   "metadata": {},
   "source": [
    "### 1.2 Trasformazione dei dati nel loro giusto formato"
   ]
  },
  {
   "cell_type": "markdown",
   "id": "1d07b927",
   "metadata": {},
   "source": [
    "### 1.1 EDA\n",
    "\n",
    "Effettuare delle prime visualizzazioni sui dati per comprendere se sono nel giusto formato, visualizzare il loro comportamento e la presenza di valori **NULL**. Non bisogna farlo per tutte le variabili bastano solo le variabili su cui si effettueranno le dovute trasformaizoni."
   ]
  },
  {
   "cell_type": "code",
   "execution_count": 37,
   "id": "67f61c15",
   "metadata": {},
   "outputs": [
    {
     "name": "stdout",
     "output_type": "stream",
     "text": [
      "   id        time  temperature  humidity  visibility summary  pressure  \\\n",
      "0   0  1451624400       97.052      0.62        10.0   Clear   1016.91   \n",
      "1   1  1451624401       97.052      0.62        10.0   Clear   1016.91   \n",
      "2   2  1451624402       97.052      0.62        10.0   Clear   1016.91   \n",
      "3   3  1451624403       97.052      0.62        10.0   Clear   1016.91   \n",
      "4   4  1451624404       97.052      0.62        10.0   Clear   1016.91   \n",
      "\n",
      "   windSpeed  cloudCover  precipIntensity  precipProbability  \n",
      "0       9.18         0.0              0.0                0.0  \n",
      "1       9.18         0.0              0.0                0.0  \n",
      "2       9.18         0.0              0.0                0.0  \n",
      "3       9.18         0.0              0.0                0.0  \n",
      "4       9.18         0.0              0.0                0.0  \n",
      "   id        time  gen [kW]  Dishwasher [kW]  Furnace 1 [kW]  Furnace 2 [kW]  \\\n",
      "0   0  1451624400  0.003483         0.000033        0.020700        0.061917   \n",
      "1   1  1451624401  0.003467         0.000000        0.020717        0.063817   \n",
      "2   2  1451624402  0.003467         0.000017        0.020700        0.062317   \n",
      "3   3  1451624403  0.003483         0.000017        0.106900        0.068517   \n",
      "4   4  1451624404  0.003467         0.000133        0.236933        0.063983   \n",
      "\n",
      "   Home office [kW]  Fridge [kW]  Wine cellar [kW]  Garage door [kW]  \\\n",
      "0          0.442633     0.124150          0.006983          0.013083   \n",
      "1          0.444067     0.124000          0.006983          0.013117   \n",
      "2          0.446067     0.123533          0.006983          0.013083   \n",
      "3          0.446583     0.123133          0.006983          0.013000   \n",
      "4          0.446533     0.122850          0.006850          0.012783   \n",
      "\n",
      "   Kitchen 12 [kW]  Kitchen 14 [kW]  Kitchen 38 [kW]  Barn [kW]  Well [kW]  \\\n",
      "0         0.000417         0.000150         0.000000   0.031350   0.001017   \n",
      "1         0.000417         0.000150         0.000000   0.031500   0.001017   \n",
      "2         0.000433         0.000167         0.000017   0.031517   0.001000   \n",
      "3         0.000433         0.000217         0.000000   0.031500   0.001017   \n",
      "4         0.000450         0.000333         0.000000   0.031500   0.001017   \n",
      "\n",
      "   Microwave [kW]  Living room [kW]  Solar [kW]  alexa [kW]  \n",
      "0        0.004067          0.001517    0.003483         NaN  \n",
      "1        0.004067          0.001650    0.003467         NaN  \n",
      "2        0.004067          0.001650    0.003467         NaN  \n",
      "3        0.004067          0.001617    0.003483         NaN  \n",
      "4        0.004067          0.001583    0.003467         NaN  \n"
     ]
    }
   ],
   "source": [
    "#Per effettuare una prima visualizzazione dei dati, andrò a mostrare le prime righe dei DataFrame importati al punto precedente:\n",
    "#Per il file csv climate-data\n",
    "print(climate_df.head())\n",
    "\n",
    "#Per il file csv smart-home-data-raw: \n",
    "print(smart_home_df.head())"
   ]
  },
  {
   "cell_type": "code",
   "execution_count": 38,
   "id": "c2e82263",
   "metadata": {},
   "outputs": [
    {
     "name": "stdout",
     "output_type": "stream",
     "text": [
      "visualizzazione dei valori null per il DF: climate_df\n",
      "id                   0\n",
      "time                 0\n",
      "temperature          0\n",
      "humidity             0\n",
      "visibility           0\n",
      "summary              0\n",
      "pressure             0\n",
      "windSpeed            0\n",
      "cloudCover           0\n",
      "precipIntensity      0\n",
      "precipProbability    0\n",
      "dtype: int64\n",
      "visualizzazione dei valori null per il DF: smart_home_df\n",
      "id                       0\n",
      "time                     0\n",
      "gen [kW]                 1\n",
      "Dishwasher [kW]          1\n",
      "Furnace 1 [kW]           1\n",
      "Furnace 2 [kW]           1\n",
      "Home office [kW]         1\n",
      "Fridge [kW]              1\n",
      "Wine cellar [kW]         1\n",
      "Garage door [kW]         1\n",
      "Kitchen 12 [kW]          1\n",
      "Kitchen 14 [kW]          1\n",
      "Kitchen 38 [kW]          1\n",
      "Barn [kW]                1\n",
      "Well [kW]                1\n",
      "Microwave [kW]           1\n",
      "Living room [kW]         1\n",
      "Solar [kW]               1\n",
      "alexa [kW]          432167\n",
      "dtype: int64\n"
     ]
    }
   ],
   "source": [
    "#Verifico la presenza di valori Null per ogni colonna all'interno dei Dataframe: \n",
    "print(\"visualizzazione dei valori null per il DF: climate_df\")\n",
    "print(climate_df.isnull().sum())\n",
    "print(\"visualizzazione dei valori null per il DF: smart_home_df\")\n",
    "print(smart_home_df.isnull().sum())"
   ]
  },
  {
   "cell_type": "markdown",
   "id": "b4748156",
   "metadata": {},
   "source": [
    "Nella cella sotto si crea un DataFrame contenente le sole colonne di interesse che definiscono i consumi della zona cucina. \n",
    "\n"
   ]
  },
  {
   "cell_type": "code",
   "execution_count": 39,
   "id": "5adc9def",
   "metadata": {},
   "outputs": [
    {
     "name": "stdout",
     "output_type": "stream",
     "text": [
      "   Dishwasher [kW]  Furnace 1 [kW]  Furnace 2 [kW]  Fridge [kW]  \\\n",
      "0         0.000033        0.020700        0.061917     0.124150   \n",
      "1         0.000000        0.020717        0.063817     0.124000   \n",
      "2         0.000017        0.020700        0.062317     0.123533   \n",
      "3         0.000017        0.106900        0.068517     0.123133   \n",
      "4         0.000133        0.236933        0.063983     0.122850   \n",
      "\n",
      "   Kitchen 12 [kW]  Kitchen 14 [kW]  Kitchen 38 [kW]  Microwave [kW]  \n",
      "0         0.000417         0.000150         0.000000        0.004067  \n",
      "1         0.000417         0.000150         0.000000        0.004067  \n",
      "2         0.000433         0.000167         0.000017        0.004067  \n",
      "3         0.000433         0.000217         0.000000        0.004067  \n",
      "4         0.000450         0.000333         0.000000        0.004067  \n"
     ]
    }
   ],
   "source": [
    "#Seleziono le colonne di interesse che definiscono i consumi della zona cucina: \n",
    "columns_of_interest = ['Dishwasher [kW]', 'Furnace 1 [kW]', 'Furnace 2 [kW]', 'Fridge [kW]', 'Kitchen 12 [kW]', 'Kitchen 14 [kW]', 'Kitchen 38 [kW]', 'Microwave [kW]']\n",
    "\n",
    "cucina_df = smart_home_df[columns_of_interest]\n",
    "print(cucina_df.head())"
   ]
  },
  {
   "cell_type": "markdown",
   "id": "d2a9a21e",
   "metadata": {},
   "source": [
    "Per analizzare il comportamento dei dati: si creano degli instogramma per le varie colonne sui vari Dataset: \n",
    "1. per tutti i consumi della cucina. \n",
    "2. sull'energia generata.\n",
    "3. sull'energia solare prodotta. \n",
    "4. sulla temperatura fuori dalla casa. "
   ]
  },
  {
   "cell_type": "code",
   "execution_count": null,
   "id": "b780bf75",
   "metadata": {},
   "outputs": [],
   "source": [
    "#1. Instogrammi per i consumi della cucina: \n",
    "cucina_df.plot(kind='hist', bins=20)"
   ]
  },
  {
   "cell_type": "code",
   "execution_count": null,
   "id": "e9c54ebf",
   "metadata": {},
   "outputs": [],
   "source": [
    "#2. Instogramma sull'energia generata: \n",
    "smart_home_df['gen [kW]'].plot(kind='hist', bins=20)"
   ]
  },
  {
   "cell_type": "code",
   "execution_count": null,
   "id": "b3420e06",
   "metadata": {},
   "outputs": [],
   "source": [
    "#3. Instogramma sull'energia prodotta dai panelli solari: \n",
    "smart_home_df['Solar [kW]'].plot(kind='hist', bins=20)"
   ]
  },
  {
   "cell_type": "code",
   "execution_count": null,
   "id": "08a67bf5",
   "metadata": {},
   "outputs": [],
   "source": [
    "#4. Istagramma sulla temperatura fuori dalla casa: \n",
    "climate_df['temperature'].plot(kind='hist', bins=20)"
   ]
  },
  {
   "cell_type": "markdown",
   "id": "f7865a65",
   "metadata": {},
   "source": [
    "### 1.3 Feature Engineering\n",
    "\n",
    "Questi sono dei suggerimenti su come procedere nelle prime fasi di feature engineering. Tuttavia, si tratta di suggerimenti, non si è limitati solo a questi task.\n",
    "\n",
    "1. Feature Engineering: \n",
    "        a. definire una nuova colonna che comprenda i consumi totali della cucina\n",
    "        b. Ci sono due colonne che forniscono la stessa informazione, rimuoverne una\n",
    "        c. Definire una nuova colonna che comprenda i consumi dei forni e del microonde\n",
    "        d. Definire una nuova colonna categorica basata su Cloud Cover. Valori da (0, 0.30) => CIELO CHIARO, valori da (0.31, 0.60) => LEGGERMENTE COPERTO, valori (0.61, 1) => CIELO COPERTO\n",
    "        e. calcolare la percentuale di energia generata sul totale consumato\n",
    "2. Il tempo è nel formato timestamp, trasformarlo nel giusto formato YYYY-MM-DD HH:mm:SS\n",
    "3. Gestire i valori Null"
   ]
  },
  {
   "cell_type": "code",
   "execution_count": 40,
   "id": "10afea6c",
   "metadata": {},
   "outputs": [
    {
     "name": "stdout",
     "output_type": "stream",
     "text": [
      "   id        time  gen [kW]  Home office [kW]  Wine cellar [kW]  \\\n",
      "0   0  1451624400  0.003483          0.442633          0.006983   \n",
      "1   1  1451624401  0.003467          0.444067          0.006983   \n",
      "2   2  1451624402  0.003467          0.446067          0.006983   \n",
      "3   3  1451624403  0.003483          0.446583          0.006983   \n",
      "4   4  1451624404  0.003467          0.446533          0.006850   \n",
      "\n",
      "   Garage door [kW]  Barn [kW]  Well [kW]  Living room [kW]  Solar [kW]  \\\n",
      "0          0.013083   0.031350   0.001017          0.001517    0.003483   \n",
      "1          0.013117   0.031500   0.001017          0.001650    0.003467   \n",
      "2          0.013083   0.031517   0.001000          0.001650    0.003467   \n",
      "3          0.013000   0.031500   0.001017          0.001617    0.003483   \n",
      "4          0.012783   0.031500   0.001017          0.001583    0.003467   \n",
      "\n",
      "   alexa [kW]    cucina  \n",
      "0         NaN  0.211433  \n",
      "1         NaN  0.213167  \n",
      "2         NaN  0.211250  \n",
      "3         NaN  0.303283  \n",
      "4         NaN  0.428750  \n"
     ]
    }
   ],
   "source": [
    "#a. definire una nuova colonna che comprenda i consumi totali della cucina\n",
    "#Definisco il DF\n",
    "column_interest_smart_home = ['id', 'time', 'gen [kW]', 'Home office [kW]', 'Wine cellar [kW]', 'Garage door [kW]', 'Barn [kW]',\n",
    "                             'Well [kW]', 'Living room [kW]', 'Solar [kW]', 'alexa [kW]']\n",
    "\n",
    "df_smart_home_cucina = smart_home_df[column_interest_smart_home]\n",
    "\n",
    "#somma dei consumi totali della cucina: \n",
    "sum_consumi_cucina = cucina_df.sum(axis = 1, skipna = True)\n",
    "df_consumi_cucina = pd.DataFrame(sum_consumi_cucina)\n",
    "\n",
    "#estrare i valori della seconda colonna\n",
    "values_cucina = df_consumi_cucina.iloc[:, 0]\n",
    "\n",
    "#Si crea la colonna 'cucina' nel DF\n",
    "df_smart_home_cucina = df_smart_home_cucina.assign(cucina=values_cucina)\n",
    "\n",
    "print(df_smart_home_cucina.head())"
   ]
  },
  {
   "cell_type": "code",
   "execution_count": 41,
   "id": "0d4928b8",
   "metadata": {},
   "outputs": [
    {
     "name": "stdout",
     "output_type": "stream",
     "text": [
      "Duplicati nel DF: climate_df\n",
      "Non ci sono duplicati nel df: climate_df\n",
      "Duplicati nel DF: smart_home_df\n",
      "Column Name :  Solar [kW]\n"
     ]
    }
   ],
   "source": [
    "#b. Ci sono due colonne che forniscono la stessa informazione, rimuoverne una\n",
    "\n",
    "#metodo che individua se ci sono dei duplicati nei DF\n",
    "def getDuplicateColumns(df):\n",
    " \n",
    "    #Creazione di un Set\n",
    "    lista_colonne_duplicati = set()\n",
    " \n",
    "    #Iterare sulle colonne del DF  \n",
    "    for x in range(df.shape[1]):\n",
    " \n",
    "        #Prende la colonna alla posizione x-esima\n",
    "        col = df.iloc[:, x]\n",
    " \n",
    "        #Iterare sulle colonne del DF dalla posizione x+1 fino alla fine\n",
    "        for y in range(x + 1, df.shape[1]):\n",
    " \n",
    "            #Prende la colonna alla posizione y-esima\n",
    "            otherCol = df.iloc[:, y]\n",
    " \n",
    "            #Check se le colonne x e y sono uguali\n",
    "            if col.equals(otherCol):\n",
    "                lista_colonne_duplicati.add(df.columns.values[y])\n",
    " \n",
    "    #Return della lista delle colonne duplicate\n",
    "    return list(lista_colonne_duplicati)\n",
    "\n",
    "\n",
    "print(\"Duplicati nel DF: climate_df\")\n",
    "duplicateColNames_climate = getDuplicateColumns(climate_df)\n",
    "\n",
    "if(len(duplicateColNames_climate)==0): \n",
    "    print(\"Non ci sono duplicati nel df: climate_df\")\n",
    "else:\n",
    "    for column in duplicateColNames_climate:\n",
    "        print('Column Name : ', column)\n",
    "    \n",
    "print(\"Duplicati nel DF: smart_home_df\")\n",
    "duplicateColNames_smart_home = getDuplicateColumns(smart_home_df)\n",
    "\n",
    "if(len(duplicateColNames_smart_home)==0):\n",
    "    print(\"Non ci sono duplicati nel df: smart_home_df\")\n",
    "else: \n",
    "    for column in duplicateColNames_smart_home:\n",
    "        print('Column Name : ', column)\n"
   ]
  },
  {
   "cell_type": "code",
   "execution_count": 42,
   "id": "89f40981",
   "metadata": {},
   "outputs": [
    {
     "name": "stdout",
     "output_type": "stream",
     "text": [
      "   id        time  gen [kW]  Home office [kW]  Wine cellar [kW]  \\\n",
      "0   0  1451624400  0.003483          0.442633          0.006983   \n",
      "1   1  1451624401  0.003467          0.444067          0.006983   \n",
      "2   2  1451624402  0.003467          0.446067          0.006983   \n",
      "3   3  1451624403  0.003483          0.446583          0.006983   \n",
      "4   4  1451624404  0.003467          0.446533          0.006850   \n",
      "\n",
      "   Garage door [kW]  Barn [kW]  Well [kW]  Living room [kW]  alexa [kW]  \\\n",
      "0          0.013083   0.031350   0.001017          0.001517         NaN   \n",
      "1          0.013117   0.031500   0.001017          0.001650         NaN   \n",
      "2          0.013083   0.031517   0.001000          0.001650         NaN   \n",
      "3          0.013000   0.031500   0.001017          0.001617         NaN   \n",
      "4          0.012783   0.031500   0.001017          0.001583         NaN   \n",
      "\n",
      "     cucina  \n",
      "0  0.211433  \n",
      "1  0.213167  \n",
      "2  0.211250  \n",
      "3  0.303283  \n",
      "4  0.428750  \n"
     ]
    }
   ],
   "source": [
    "#Eliminare la colonna Solar che è duplicata\n",
    "df_smart_home_cucina = df_smart_home_cucina.drop(['Solar [kW]'], axis = 1)\n",
    "print(df_smart_home_cucina.head())"
   ]
  },
  {
   "cell_type": "code",
   "execution_count": 43,
   "id": "19731f91",
   "metadata": {},
   "outputs": [
    {
     "name": "stdout",
     "output_type": "stream",
     "text": [
      "            id        time  gen [kW]  Home office [kW]  Wine cellar [kW]  \\\n",
      "0            0  1451624400  0.003483          0.442633          0.006983   \n",
      "1            1  1451624401  0.003467          0.444067          0.006983   \n",
      "2            2  1451624402  0.003467          0.446067          0.006983   \n",
      "3            3  1451624403  0.003483          0.446583          0.006983   \n",
      "4            4  1451624404  0.003467          0.446533          0.006850   \n",
      "...        ...         ...       ...               ...               ...   \n",
      "503906  503906  1452128306  0.003233          0.041750          0.008433   \n",
      "503907  503907  1452128307  0.003217          0.042033          0.008467   \n",
      "503908  503908  1452128308  0.003217          0.042100          0.008233   \n",
      "503909  503909  1452128309  0.003233          0.042100          0.008133   \n",
      "503910  503910           \\       NaN               NaN               NaN   \n",
      "\n",
      "        Garage door [kW]  Barn [kW]  Well [kW]  Living room [kW]  alexa [kW]  \\\n",
      "0               0.013083   0.031350   0.001017          0.001517         NaN   \n",
      "1               0.013117   0.031500   0.001017          0.001650         NaN   \n",
      "2               0.013083   0.031517   0.001000          0.001650         NaN   \n",
      "3               0.013000   0.031500   0.001017          0.001617         NaN   \n",
      "4               0.012783   0.031500   0.001017          0.001583         NaN   \n",
      "...                  ...        ...        ...               ...         ...   \n",
      "503906          0.013433   0.032200   0.000950          0.000933         NaN   \n",
      "503907          0.012933   0.032283   0.001000          0.001000         NaN   \n",
      "503908          0.012817   0.032183   0.000950          0.000950    0.370514   \n",
      "503909          0.012833   0.032167   0.000950          0.000950         NaN   \n",
      "503910               NaN        NaN        NaN               NaN         NaN   \n",
      "\n",
      "          cucina  forno_micro  \n",
      "0       0.211433     0.086683  \n",
      "1       0.213167     0.088600  \n",
      "2       0.211250     0.087083  \n",
      "3       0.303283     0.179483  \n",
      "4       0.428750     0.304983  \n",
      "...          ...          ...  \n",
      "503906  0.738733     0.732850  \n",
      "503907  1.069483     1.063867  \n",
      "503908  1.125833     1.119800  \n",
      "503909  1.138217     1.132600  \n",
      "503910  0.000000     0.000000  \n",
      "\n",
      "[503911 rows x 12 columns]\n"
     ]
    }
   ],
   "source": [
    "#c. Definire una nuova colonna che comprenda i consumi dei forni e del microonde \n",
    "column_forno_micro = ['Furnace 1 [kW]', 'Furnace 2 [kW]','Microwave [kW]']\n",
    "\n",
    "df_forno_micro = smart_home_df[column_forno_micro]\n",
    "\n",
    "sum_forno_micro = df_forno_micro.sum(axis = 1, skipna = True)\n",
    "\n",
    "\n",
    "df_smart_home_cucina = df_smart_home_cucina.assign(forno_micro=sum_forno_micro)\n",
    "\n",
    "print(df_smart_home_cucina)"
   ]
  },
  {
   "cell_type": "code",
   "execution_count": 44,
   "id": "29a1faa4",
   "metadata": {},
   "outputs": [
    {
     "name": "stdout",
     "output_type": "stream",
     "text": [
      "            id                 time  temperature  humidity  visibility  \\\n",
      "0            0           1451624400    97.052000  0.620000   10.000000   \n",
      "1            1           1451624401    97.052000  0.620000   10.000000   \n",
      "2            2           1451624402    97.052000  0.620000   10.000000   \n",
      "3            3           1451624403    97.052000  0.620000   10.000000   \n",
      "4            4           1451624404    97.052000  0.620000   10.000000   \n",
      "...        ...                  ...          ...       ...         ...   \n",
      "516147  516148  2016-02-29 20:00:00    15.084529  0.481439    4.947440   \n",
      "516148  516149  2016-02-29 21:00:00    48.704089  0.910807    5.035099   \n",
      "516149  516150  2016-02-29 22:00:00   149.482032  0.715184    7.215318   \n",
      "516150  516151  2016-02-29 23:00:00   187.476042  0.661583    6.919818   \n",
      "516151  516152  2016-03-01 00:00:00    42.813651  0.412510    7.970876   \n",
      "\n",
      "           summary     pressure  windSpeed  cloudCover  precipIntensity  \\\n",
      "0            Clear  1016.910000   9.180000    0.000000         0.000000   \n",
      "1            Clear  1016.910000   9.180000    0.000000         0.000000   \n",
      "2            Clear  1016.910000   9.180000    0.000000         0.000000   \n",
      "3            Clear  1016.910000   9.180000    0.000000         0.000000   \n",
      "4            Clear  1016.910000   9.180000    0.000000         0.000000   \n",
      "...            ...          ...        ...         ...              ...   \n",
      "516147       Clear  1030.448770   2.313993    0.462854         0.189916   \n",
      "516148    Overcast  1015.941773  19.973359    0.058536         0.184460   \n",
      "516149        Rain   993.866691   1.709177    0.460230         0.185828   \n",
      "516150  Heavy Snow  1023.840896  10.082647    0.924471         0.135265   \n",
      "516151         Dry  1021.893042  22.829728    0.870243         0.031531   \n",
      "\n",
      "        precipProbability                cielo  \n",
      "0                0.000000         CIELO CHIARO  \n",
      "1                0.000000         CIELO CHIARO  \n",
      "2                0.000000         CIELO CHIARO  \n",
      "3                0.000000         CIELO CHIARO  \n",
      "4                0.000000         CIELO CHIARO  \n",
      "...                   ...                  ...  \n",
      "516147           0.479749  LEGGIAMENTE COPERTO  \n",
      "516148           0.729774         CIELO CHIARO  \n",
      "516149           0.827118  LEGGIAMENTE COPERTO  \n",
      "516150           0.215787        CIELO COPERTO  \n",
      "516151           0.077130        CIELO COPERTO  \n",
      "\n",
      "[516152 rows x 12 columns]\n"
     ]
    }
   ],
   "source": [
    "#d. Definire una nuova colonna categorica basata su Cloud Cover. Valori da (0, 0.30) => CIELO CHIARO, \n",
    "#valori da (0.31, 0.60) => LEGGERMENTE COPERTO, valori (0.61, 1) => CIELO COPERTO\n",
    "\n",
    "def categorizza_cloud_cover(valore):\n",
    "    if 0 <= valore <= 0.30:\n",
    "        return 'CIELO CHIARO'\n",
    "    elif 0.31 <= valore <= 0.60:\n",
    "        return 'LEGGIAMENTE COPERTO'\n",
    "    elif 0.61 <= valore <= 1:\n",
    "        return 'CIELO COPERTO'\n",
    "    else:\n",
    "        return 'Valore non valido'\n",
    "    \n",
    "cielo = climate_df['cloudCover'].apply(categorizza_cloud_cover)\n",
    "\n",
    "climate_df = climate_df.assign(cielo=cielo)\n",
    "\n",
    "print(climate_df)"
   ]
  },
  {
   "cell_type": "code",
   "execution_count": 45,
   "id": "08cdd271",
   "metadata": {},
   "outputs": [
    {
     "name": "stdout",
     "output_type": "stream",
     "text": [
      "0         9.969736e-07\n",
      "1         9.922035e-07\n",
      "2         9.922035e-07\n",
      "3         9.969736e-07\n",
      "4         9.922035e-07\n",
      "              ...     \n",
      "503906    9.254204e-07\n",
      "503907    9.206504e-07\n",
      "503908    9.206504e-07\n",
      "503909    9.254204e-07\n",
      "503910             NaN\n",
      "Name: gen [kW], Length: 503911, dtype: float64\n"
     ]
    }
   ],
   "source": [
    "#e. calcolare la percentuale di energia generata sul totale consumato\n",
    "\n",
    "column_interest_consumi = ['Home office [kW]', 'Wine cellar [kW]', 'Garage door [kW]', 'Barn [kW]',\n",
    "                             'Well [kW]', 'Living room [kW]', 'alexa [kW]', 'cucina']\n",
    "\n",
    "df_smart_home_consumi_tot = df_smart_home_cucina[column_interest_consumi]\n",
    "\n",
    "sum_consumi_tot = df_smart_home_consumi_tot.sum(axis = 1, skipna = True)\n",
    "\n",
    "#percentuale = (sum_consumi_tot / df_smart_home_cucina['gen [kW]'].sum()) * 100\n",
    "percentuale = (df_smart_home_cucina['gen [kW]'] / sum_consumi_tot.sum()) * 100 \n",
    "\n",
    "print(percentuale)"
   ]
  },
  {
   "cell_type": "markdown",
   "id": "5344cb38",
   "metadata": {},
   "source": [
    "3. Gestire i valori Null\n",
    "\n",
    "Per la gestione dei valori Null, dall'analisi fatta sopra, si è visto che la colonna Alexa è piena di valori Null, ovvero ha bel 432167 righe a Null, oltre ciò, dall'analisi svolta sulle query che bisogna al punto 2 sotto, la colonna Alexa non impatta molto. Quindi fatte queste considerazioni si è deciso di eliminare la colonna Alexa.\n",
    "\n",
    "NOTA: Prima di eseguire il punto 2, eseguo la gestione del valori null"
   ]
  },
  {
   "cell_type": "code",
   "execution_count": 46,
   "id": "cd7fff27",
   "metadata": {},
   "outputs": [
    {
     "name": "stdout",
     "output_type": "stream",
     "text": [
      "   id        time  gen [kW]  Home office [kW]  Wine cellar [kW]  \\\n",
      "0   0  1451624400  0.003483          0.442633          0.006983   \n",
      "1   1  1451624401  0.003467          0.444067          0.006983   \n",
      "2   2  1451624402  0.003467          0.446067          0.006983   \n",
      "3   3  1451624403  0.003483          0.446583          0.006983   \n",
      "4   4  1451624404  0.003467          0.446533          0.006850   \n",
      "\n",
      "   Garage door [kW]  Barn [kW]  Well [kW]  Living room [kW]    cucina  \\\n",
      "0          0.013083   0.031350   0.001017          0.001517  0.211433   \n",
      "1          0.013117   0.031500   0.001017          0.001650  0.213167   \n",
      "2          0.013083   0.031517   0.001000          0.001650  0.211250   \n",
      "3          0.013000   0.031500   0.001017          0.001617  0.303283   \n",
      "4          0.012783   0.031500   0.001017          0.001583  0.428750   \n",
      "\n",
      "   forno_micro  \n",
      "0     0.086683  \n",
      "1     0.088600  \n",
      "2     0.087083  \n",
      "3     0.179483  \n",
      "4     0.304983  \n"
     ]
    }
   ],
   "source": [
    "#3. Gestire i valori Null\n",
    "\n",
    "#Eliminazione della colonna Alexa: \n",
    "df_smart_home_cucina = df_smart_home_cucina.drop(['alexa [kW]'], axis = 1)\n",
    "print(df_smart_home_cucina.head())"
   ]
  },
  {
   "cell_type": "code",
   "execution_count": 47,
   "id": "d4bd6b55",
   "metadata": {},
   "outputs": [
    {
     "name": "stdout",
     "output_type": "stream",
     "text": [
      "id                  0\n",
      "time                0\n",
      "gen [kW]            0\n",
      "Home office [kW]    0\n",
      "Wine cellar [kW]    0\n",
      "Garage door [kW]    0\n",
      "Barn [kW]           0\n",
      "Well [kW]           0\n",
      "Living room [kW]    0\n",
      "cucina              0\n",
      "forno_micro         0\n",
      "dtype: int64\n"
     ]
    }
   ],
   "source": [
    "#Eliminazione delle righe con il valore null: \n",
    "\n",
    "df_smart_home_cucina = df_smart_home_cucina.dropna(how='any')\n",
    "print(df_smart_home_cucina.isnull().sum())\n"
   ]
  },
  {
   "cell_type": "code",
   "execution_count": 48,
   "id": "2b168308",
   "metadata": {},
   "outputs": [
    {
     "name": "stdout",
     "output_type": "stream",
     "text": [
      "            id        time  gen [kW]  Home office [kW]  Wine cellar [kW]  \\\n",
      "0            0  1451624400  0.003483          0.442633          0.006983   \n",
      "1            1  1451624401  0.003467          0.444067          0.006983   \n",
      "2            2  1451624402  0.003467          0.446067          0.006983   \n",
      "3            3  1451624403  0.003483          0.446583          0.006983   \n",
      "4            4  1451624404  0.003467          0.446533          0.006850   \n",
      "...        ...         ...       ...               ...               ...   \n",
      "503905  503905  1452128305  0.003183          0.041783          0.008667   \n",
      "503906  503906  1452128306  0.003233          0.041750          0.008433   \n",
      "503907  503907  1452128307  0.003217          0.042033          0.008467   \n",
      "503908  503908  1452128308  0.003217          0.042100          0.008233   \n",
      "503909  503909  1452128309  0.003233          0.042100          0.008133   \n",
      "\n",
      "        Garage door [kW]  Barn [kW]  Well [kW]  Living room [kW]    cucina  \\\n",
      "0               0.013083   0.031350   0.001017          0.001517  0.211433   \n",
      "1               0.013117   0.031500   0.001017          0.001650  0.213167   \n",
      "2               0.013083   0.031517   0.001000          0.001650  0.211250   \n",
      "3               0.013000   0.031500   0.001017          0.001617  0.303283   \n",
      "4               0.012783   0.031500   0.001017          0.001583  0.428750   \n",
      "...                  ...        ...        ...               ...       ...   \n",
      "503905          0.013483   0.032283   0.000983          0.000967  0.737433   \n",
      "503906          0.013433   0.032200   0.000950          0.000933  0.738733   \n",
      "503907          0.012933   0.032283   0.001000          0.001000  1.069483   \n",
      "503908          0.012817   0.032183   0.000950          0.000950  1.125833   \n",
      "503909          0.012833   0.032167   0.000950          0.000950  1.138217   \n",
      "\n",
      "        forno_micro               tempo  \n",
      "0          0.086683 2016-01-01 06:00:00  \n",
      "1          0.088600 2016-01-01 06:00:01  \n",
      "2          0.087083 2016-01-01 06:00:02  \n",
      "3          0.179483 2016-01-01 06:00:03  \n",
      "4          0.304983 2016-01-01 06:00:04  \n",
      "...             ...                 ...  \n",
      "503905     0.731483 2016-01-07 01:58:25  \n",
      "503906     0.732850 2016-01-07 01:58:26  \n",
      "503907     1.063867 2016-01-07 01:58:27  \n",
      "503908     1.119800 2016-01-07 01:58:28  \n",
      "503909     1.132600 2016-01-07 01:58:29  \n",
      "\n",
      "[503910 rows x 12 columns]\n",
      "            id                 time  temperature  humidity  visibility  \\\n",
      "0            0           1451624400    97.052000  0.620000   10.000000   \n",
      "1            1           1451624401    97.052000  0.620000   10.000000   \n",
      "2            2           1451624402    97.052000  0.620000   10.000000   \n",
      "3            3           1451624403    97.052000  0.620000   10.000000   \n",
      "4            4           1451624404    97.052000  0.620000   10.000000   \n",
      "...        ...                  ...          ...       ...         ...   \n",
      "516147  516148  2016-02-29 20:00:00    15.084529  0.481439    4.947440   \n",
      "516148  516149  2016-02-29 21:00:00    48.704089  0.910807    5.035099   \n",
      "516149  516150  2016-02-29 22:00:00   149.482032  0.715184    7.215318   \n",
      "516150  516151  2016-02-29 23:00:00   187.476042  0.661583    6.919818   \n",
      "516151  516152  2016-03-01 00:00:00    42.813651  0.412510    7.970876   \n",
      "\n",
      "           summary     pressure  windSpeed  cloudCover  precipIntensity  \\\n",
      "0            Clear  1016.910000   9.180000    0.000000         0.000000   \n",
      "1            Clear  1016.910000   9.180000    0.000000         0.000000   \n",
      "2            Clear  1016.910000   9.180000    0.000000         0.000000   \n",
      "3            Clear  1016.910000   9.180000    0.000000         0.000000   \n",
      "4            Clear  1016.910000   9.180000    0.000000         0.000000   \n",
      "...            ...          ...        ...         ...              ...   \n",
      "516147       Clear  1030.448770   2.313993    0.462854         0.189916   \n",
      "516148    Overcast  1015.941773  19.973359    0.058536         0.184460   \n",
      "516149        Rain   993.866691   1.709177    0.460230         0.185828   \n",
      "516150  Heavy Snow  1023.840896  10.082647    0.924471         0.135265   \n",
      "516151         Dry  1021.893042  22.829728    0.870243         0.031531   \n",
      "\n",
      "        precipProbability                cielo               tempo  \n",
      "0                0.000000         CIELO CHIARO 2016-01-01 06:00:00  \n",
      "1                0.000000         CIELO CHIARO 2016-01-01 06:00:01  \n",
      "2                0.000000         CIELO CHIARO 2016-01-01 06:00:02  \n",
      "3                0.000000         CIELO CHIARO 2016-01-01 06:00:03  \n",
      "4                0.000000         CIELO CHIARO 2016-01-01 06:00:04  \n",
      "...                   ...                  ...                 ...  \n",
      "516147           0.479749  LEGGIAMENTE COPERTO 2016-02-29 20:00:00  \n",
      "516148           0.729774         CIELO CHIARO 2016-02-29 21:00:00  \n",
      "516149           0.827118  LEGGIAMENTE COPERTO 2016-02-29 22:00:00  \n",
      "516150           0.215787        CIELO COPERTO 2016-02-29 23:00:00  \n",
      "516151           0.077130        CIELO COPERTO 2016-03-01 00:00:00  \n",
      "\n",
      "[516152 rows x 13 columns]\n"
     ]
    }
   ],
   "source": [
    "#2. Il tempo è nel formato timestamp, trasformarlo nel giusto formato YYYY-MM-DD HH:mm:SS\n",
    "# La formattazione del tempo viene eseguita per entrambi i Dataframe \n",
    "from datetime import datetime\n",
    "df_form = pd.DataFrame()\n",
    "\n",
    "def formattazione_tempo(valore): \n",
    "    try:\n",
    "        datetime_object = datetime.strptime(valore, '%Y-%m-%d %H:%M:%S')\n",
    "    except ValueError:\n",
    "        datetime_object = datetime.fromtimestamp(int(valore))\n",
    "    return datetime_object\n",
    "\n",
    "\n",
    "df_smart_home_cucina[\"tempo\"] = df_smart_home_cucina['time'].apply(formattazione_tempo)\n",
    "climate_df[\"tempo\"] = climate_df['time'].apply(formattazione_tempo)\n",
    "print(df_smart_home_cucina)\n",
    "print(climate_df)"
   ]
  },
  {
   "cell_type": "code",
   "execution_count": 50,
   "id": "f454d7d3",
   "metadata": {},
   "outputs": [
    {
     "ename": "KeyError",
     "evalue": "\"['time'] not found in axis\"",
     "output_type": "error",
     "traceback": [
      "\u001b[1;31m---------------------------------------------------------------------------\u001b[0m",
      "\u001b[1;31mKeyError\u001b[0m                                  Traceback (most recent call last)",
      "Cell \u001b[1;32mIn[50], line 2\u001b[0m\n\u001b[0;32m      1\u001b[0m \u001b[38;5;66;03m#Eliminazione della colonna time che è stata già trasformata nella colonna \"tempo\"\u001b[39;00m\n\u001b[1;32m----> 2\u001b[0m df_smart_home_cucina \u001b[38;5;241m=\u001b[39m df_smart_home_cucina\u001b[38;5;241m.\u001b[39mdrop([\u001b[38;5;124m'\u001b[39m\u001b[38;5;124mtime\u001b[39m\u001b[38;5;124m'\u001b[39m], axis \u001b[38;5;241m=\u001b[39m \u001b[38;5;241m1\u001b[39m)\n\u001b[0;32m      3\u001b[0m climate_df \u001b[38;5;241m=\u001b[39m climate_df\u001b[38;5;241m.\u001b[39mdrop([\u001b[38;5;124m'\u001b[39m\u001b[38;5;124mtime\u001b[39m\u001b[38;5;124m'\u001b[39m], axis \u001b[38;5;241m=\u001b[39m \u001b[38;5;241m1\u001b[39m)\n",
      "File \u001b[1;32m~\\anaconda3\\Lib\\site-packages\\pandas\\core\\frame.py:5258\u001b[0m, in \u001b[0;36mDataFrame.drop\u001b[1;34m(self, labels, axis, index, columns, level, inplace, errors)\u001b[0m\n\u001b[0;32m   5110\u001b[0m \u001b[38;5;28;01mdef\u001b[39;00m \u001b[38;5;21mdrop\u001b[39m(\n\u001b[0;32m   5111\u001b[0m     \u001b[38;5;28mself\u001b[39m,\n\u001b[0;32m   5112\u001b[0m     labels: IndexLabel \u001b[38;5;241m=\u001b[39m \u001b[38;5;28;01mNone\u001b[39;00m,\n\u001b[1;32m   (...)\u001b[0m\n\u001b[0;32m   5119\u001b[0m     errors: IgnoreRaise \u001b[38;5;241m=\u001b[39m \u001b[38;5;124m\"\u001b[39m\u001b[38;5;124mraise\u001b[39m\u001b[38;5;124m\"\u001b[39m,\n\u001b[0;32m   5120\u001b[0m ) \u001b[38;5;241m-\u001b[39m\u001b[38;5;241m>\u001b[39m DataFrame \u001b[38;5;241m|\u001b[39m \u001b[38;5;28;01mNone\u001b[39;00m:\n\u001b[0;32m   5121\u001b[0m \u001b[38;5;250m    \u001b[39m\u001b[38;5;124;03m\"\"\"\u001b[39;00m\n\u001b[0;32m   5122\u001b[0m \u001b[38;5;124;03m    Drop specified labels from rows or columns.\u001b[39;00m\n\u001b[0;32m   5123\u001b[0m \n\u001b[1;32m   (...)\u001b[0m\n\u001b[0;32m   5256\u001b[0m \u001b[38;5;124;03m            weight  1.0     0.8\u001b[39;00m\n\u001b[0;32m   5257\u001b[0m \u001b[38;5;124;03m    \"\"\"\u001b[39;00m\n\u001b[1;32m-> 5258\u001b[0m     \u001b[38;5;28;01mreturn\u001b[39;00m \u001b[38;5;28msuper\u001b[39m()\u001b[38;5;241m.\u001b[39mdrop(\n\u001b[0;32m   5259\u001b[0m         labels\u001b[38;5;241m=\u001b[39mlabels,\n\u001b[0;32m   5260\u001b[0m         axis\u001b[38;5;241m=\u001b[39maxis,\n\u001b[0;32m   5261\u001b[0m         index\u001b[38;5;241m=\u001b[39mindex,\n\u001b[0;32m   5262\u001b[0m         columns\u001b[38;5;241m=\u001b[39mcolumns,\n\u001b[0;32m   5263\u001b[0m         level\u001b[38;5;241m=\u001b[39mlevel,\n\u001b[0;32m   5264\u001b[0m         inplace\u001b[38;5;241m=\u001b[39minplace,\n\u001b[0;32m   5265\u001b[0m         errors\u001b[38;5;241m=\u001b[39merrors,\n\u001b[0;32m   5266\u001b[0m     )\n",
      "File \u001b[1;32m~\\anaconda3\\Lib\\site-packages\\pandas\\core\\generic.py:4549\u001b[0m, in \u001b[0;36mNDFrame.drop\u001b[1;34m(self, labels, axis, index, columns, level, inplace, errors)\u001b[0m\n\u001b[0;32m   4547\u001b[0m \u001b[38;5;28;01mfor\u001b[39;00m axis, labels \u001b[38;5;129;01min\u001b[39;00m axes\u001b[38;5;241m.\u001b[39mitems():\n\u001b[0;32m   4548\u001b[0m     \u001b[38;5;28;01mif\u001b[39;00m labels \u001b[38;5;129;01mis\u001b[39;00m \u001b[38;5;129;01mnot\u001b[39;00m \u001b[38;5;28;01mNone\u001b[39;00m:\n\u001b[1;32m-> 4549\u001b[0m         obj \u001b[38;5;241m=\u001b[39m obj\u001b[38;5;241m.\u001b[39m_drop_axis(labels, axis, level\u001b[38;5;241m=\u001b[39mlevel, errors\u001b[38;5;241m=\u001b[39merrors)\n\u001b[0;32m   4551\u001b[0m \u001b[38;5;28;01mif\u001b[39;00m inplace:\n\u001b[0;32m   4552\u001b[0m     \u001b[38;5;28mself\u001b[39m\u001b[38;5;241m.\u001b[39m_update_inplace(obj)\n",
      "File \u001b[1;32m~\\anaconda3\\Lib\\site-packages\\pandas\\core\\generic.py:4591\u001b[0m, in \u001b[0;36mNDFrame._drop_axis\u001b[1;34m(self, labels, axis, level, errors, only_slice)\u001b[0m\n\u001b[0;32m   4589\u001b[0m         new_axis \u001b[38;5;241m=\u001b[39m axis\u001b[38;5;241m.\u001b[39mdrop(labels, level\u001b[38;5;241m=\u001b[39mlevel, errors\u001b[38;5;241m=\u001b[39merrors)\n\u001b[0;32m   4590\u001b[0m     \u001b[38;5;28;01melse\u001b[39;00m:\n\u001b[1;32m-> 4591\u001b[0m         new_axis \u001b[38;5;241m=\u001b[39m axis\u001b[38;5;241m.\u001b[39mdrop(labels, errors\u001b[38;5;241m=\u001b[39merrors)\n\u001b[0;32m   4592\u001b[0m     indexer \u001b[38;5;241m=\u001b[39m axis\u001b[38;5;241m.\u001b[39mget_indexer(new_axis)\n\u001b[0;32m   4594\u001b[0m \u001b[38;5;66;03m# Case for non-unique axis\u001b[39;00m\n\u001b[0;32m   4595\u001b[0m \u001b[38;5;28;01melse\u001b[39;00m:\n",
      "File \u001b[1;32m~\\anaconda3\\Lib\\site-packages\\pandas\\core\\indexes\\base.py:6699\u001b[0m, in \u001b[0;36mIndex.drop\u001b[1;34m(self, labels, errors)\u001b[0m\n\u001b[0;32m   6697\u001b[0m \u001b[38;5;28;01mif\u001b[39;00m mask\u001b[38;5;241m.\u001b[39many():\n\u001b[0;32m   6698\u001b[0m     \u001b[38;5;28;01mif\u001b[39;00m errors \u001b[38;5;241m!=\u001b[39m \u001b[38;5;124m\"\u001b[39m\u001b[38;5;124mignore\u001b[39m\u001b[38;5;124m\"\u001b[39m:\n\u001b[1;32m-> 6699\u001b[0m         \u001b[38;5;28;01mraise\u001b[39;00m \u001b[38;5;167;01mKeyError\u001b[39;00m(\u001b[38;5;124mf\u001b[39m\u001b[38;5;124m\"\u001b[39m\u001b[38;5;132;01m{\u001b[39;00m\u001b[38;5;28mlist\u001b[39m(labels[mask])\u001b[38;5;132;01m}\u001b[39;00m\u001b[38;5;124m not found in axis\u001b[39m\u001b[38;5;124m\"\u001b[39m)\n\u001b[0;32m   6700\u001b[0m     indexer \u001b[38;5;241m=\u001b[39m indexer[\u001b[38;5;241m~\u001b[39mmask]\n\u001b[0;32m   6701\u001b[0m \u001b[38;5;28;01mreturn\u001b[39;00m \u001b[38;5;28mself\u001b[39m\u001b[38;5;241m.\u001b[39mdelete(indexer)\n",
      "\u001b[1;31mKeyError\u001b[0m: \"['time'] not found in axis\""
     ]
    }
   ],
   "source": [
    "#Eliminazione della colonna time che è stata già trasformata nella colonna \"tempo\"\n",
    "df_smart_home_cucina = df_smart_home_cucina.drop(['time'], axis = 1)\n",
    "climate_df = climate_df.drop(['time'], axis = 1)\n",
    "#print(df_smart_home_cucina)\n",
    "#print(climate_df)"
   ]
  },
  {
   "cell_type": "markdown",
   "id": "e3656413",
   "metadata": {},
   "source": [
    "### 1.4 Data Integration\n",
    "\n",
    "Integrare i dati della smart home con quelli del clima"
   ]
  },
  {
   "cell_type": "code",
   "execution_count": 51,
   "id": "dd4639af",
   "metadata": {},
   "outputs": [
    {
     "name": "stdout",
     "output_type": "stream",
     "text": [
      "          id_x  gen [kW]  Home office [kW]  Wine cellar [kW]  \\\n",
      "0            0  0.003483          0.442633          0.006983   \n",
      "1            0  0.003483          0.442633          0.006983   \n",
      "2            1  0.003467          0.444067          0.006983   \n",
      "3            2  0.003467          0.446067          0.006983   \n",
      "4            3  0.003483          0.446583          0.006983   \n",
      "...        ...       ...               ...               ...   \n",
      "504045  503905  0.003183          0.041783          0.008667   \n",
      "504046  503906  0.003233          0.041750          0.008433   \n",
      "504047  503907  0.003217          0.042033          0.008467   \n",
      "504048  503908  0.003217          0.042100          0.008233   \n",
      "504049  503909  0.003233          0.042100          0.008133   \n",
      "\n",
      "        Garage door [kW]  Barn [kW]  Well [kW]  Living room [kW]    cucina  \\\n",
      "0               0.013083   0.031350   0.001017          0.001517  0.211433   \n",
      "1               0.013083   0.031350   0.001017          0.001517  0.211433   \n",
      "2               0.013117   0.031500   0.001017          0.001650  0.213167   \n",
      "3               0.013083   0.031517   0.001000          0.001650  0.211250   \n",
      "4               0.013000   0.031500   0.001017          0.001617  0.303283   \n",
      "...                  ...        ...        ...               ...       ...   \n",
      "504045          0.013483   0.032283   0.000983          0.000967  0.737433   \n",
      "504046          0.013433   0.032200   0.000950          0.000933  0.738733   \n",
      "504047          0.012933   0.032283   0.001000          0.001000  1.069483   \n",
      "504048          0.012817   0.032183   0.000950          0.000950  1.125833   \n",
      "504049          0.012833   0.032167   0.000950          0.000950  1.138217   \n",
      "\n",
      "        forno_micro  ... temperature  humidity  visibility     summary  \\\n",
      "0          0.086683  ...   97.052000  0.620000   10.000000       Clear   \n",
      "1          0.086683  ...  132.586827  0.976087    1.441394  Heavy Snow   \n",
      "2          0.088600  ...   97.052000  0.620000   10.000000       Clear   \n",
      "3          0.087083  ...   97.052000  0.620000   10.000000       Clear   \n",
      "4          0.179483  ...   97.052000  0.620000   10.000000       Clear   \n",
      "...             ...  ...         ...       ...         ...         ...   \n",
      "504045     0.731483  ...   95.216000  0.860000    8.740000  Light Rain   \n",
      "504046     0.732850  ...   95.216000  0.860000    8.740000  Light Rain   \n",
      "504047     1.063867  ...   95.216000  0.860000    8.740000  Light Rain   \n",
      "504048     1.119800  ...   95.216000  0.860000    8.740000  Light Rain   \n",
      "504049     1.132600  ...   95.216000  0.860000    8.740000  Light Rain   \n",
      "\n",
      "           pressure  windSpeed  cloudCover  precipIntensity  \\\n",
      "0       1016.910000   9.180000    0.000000         0.000000   \n",
      "1       1022.951183  16.810612    0.639299         0.185968   \n",
      "2       1016.910000   9.180000    0.000000         0.000000   \n",
      "3       1016.910000   9.180000    0.000000         0.000000   \n",
      "4       1016.910000   9.180000    0.000000         0.000000   \n",
      "...             ...        ...         ...              ...   \n",
      "504045  1011.490000   6.720000    0.310000         0.010100   \n",
      "504046  1011.490000   6.720000    0.310000         0.010100   \n",
      "504047  1011.490000   6.720000    0.310000         0.010100   \n",
      "504048  1011.490000   6.720000    0.310000         0.010100   \n",
      "504049  1011.490000   6.720000    0.310000         0.010100   \n",
      "\n",
      "        precipProbability                cielo  \n",
      "0                0.000000         CIELO CHIARO  \n",
      "1                0.682779        CIELO COPERTO  \n",
      "2                0.000000         CIELO CHIARO  \n",
      "3                0.000000         CIELO CHIARO  \n",
      "4                0.000000         CIELO CHIARO  \n",
      "...                   ...                  ...  \n",
      "504045           0.510000  LEGGIAMENTE COPERTO  \n",
      "504046           0.510000  LEGGIAMENTE COPERTO  \n",
      "504047           0.510000  LEGGIAMENTE COPERTO  \n",
      "504048           0.510000  LEGGIAMENTE COPERTO  \n",
      "504049           0.510000  LEGGIAMENTE COPERTO  \n",
      "\n",
      "[504050 rows x 22 columns]\n"
     ]
    }
   ],
   "source": [
    "#Fatta la merge dei 2 DF sulla colonna tempo\n",
    "df_integrato = df_smart_home_cucina.merge(climate_df, on=\"tempo\")\n",
    "print(df_integrato)\n"
   ]
  },
  {
   "cell_type": "markdown",
   "id": "d5fcfaea",
   "metadata": {},
   "source": [
    "# 2. Rispondere alle domande obiettivo"
   ]
  },
  {
   "cell_type": "markdown",
   "id": "ad9581e8",
   "metadata": {},
   "source": [
    "### 1. Quali aree della casa consumano di più?\n"
   ]
  },
  {
   "cell_type": "code",
   "execution_count": 52,
   "id": "6f84431e",
   "metadata": {},
   "outputs": [
    {
     "name": "stdout",
     "output_type": "stream",
     "text": [
      "le aree della casa che consumano di più sono:\n",
      "cucina              177217.204864\n",
      "Home office [kW]     40961.277962\n",
      "Barn [kW]            29493.633696\n",
      "Wine cellar [kW]     21233.079320\n",
      "Living room [kW]     17794.476716\n",
      "Well [kW]             7882.163852\n",
      "Garage door [kW]      7124.847316\n",
      "dtype: float64\n"
     ]
    }
   ],
   "source": [
    "#si può fare anche un grafico \n",
    "\n",
    "colonne_interesse_consumi = [\"Home office [kW]\", \"Wine cellar [kW]\", \"Garage door [kW]\", \"Barn [kW]\", \"Well [kW]\",\n",
    "                             \"Living room [kW]\", \"cucina\"]\n",
    "\n",
    "df_consumi_casa = df_smart_home_cucina[colonne_interesse_consumi]\n",
    "\n",
    "consumi_totali = df_consumi_casa.sum()\n",
    "\n",
    "#si ordinano i valori \n",
    "consumi_totali_order = consumi_totali.sort_values(ascending=False)\n",
    "\n",
    "print(f\"le aree della casa che consumano di più sono:\\n{consumi_totali_order}\")\n"
   ]
  },
  {
   "cell_type": "markdown",
   "id": "090bf4de",
   "metadata": {},
   "source": [
    "### 2. Con quale condizione atmosferica consumo di più? E con quale di meno?\n"
   ]
  },
  {
   "cell_type": "code",
   "execution_count": 53,
   "id": "6b824330",
   "metadata": {},
   "outputs": [
    {
     "name": "stdout",
     "output_type": "stream",
     "text": [
      "con la seguente condizione: Clear si ha il consumo max\n",
      "con la seguente condizione: Dry si ha il consumo min\n"
     ]
    }
   ],
   "source": [
    "consumo_totale_per_condizione = df_integrato.groupby('summary')[['Home office [kW]', 'Wine cellar [kW]', 'Garage door [kW]', 'Barn [kW]', 'Well [kW]', 'Living room [kW]', 'cucina']].sum()\n",
    "\n",
    "condizione_max_consumo = consumo_totale_per_condizione.sum(axis=1).idxmax()\n",
    "condizione_min_consumo = consumo_totale_per_condizione.sum(axis=1).idxmin()\n",
    "\n",
    "print(f\"con la seguente condizione: {condizione_max_consumo} si ha il consumo max\")\n",
    "print(f\"con la seguente condizione: {condizione_min_consumo} si ha il consumo min\")\n"
   ]
  },
  {
   "cell_type": "markdown",
   "id": "97805d63",
   "metadata": {},
   "source": [
    "### 3. Per quanti giorni abbiamo avuto una situazione chiara?\n"
   ]
  },
  {
   "cell_type": "code",
   "execution_count": 54,
   "id": "11214002",
   "metadata": {},
   "outputs": [
    {
     "name": "stdout",
     "output_type": "stream",
     "text": [
      "Il numero di giorni in cui la situazione è stata chiara è: 380826\n"
     ]
    }
   ],
   "source": [
    "situazione_chiara = df_integrato[df_integrato['cielo'] == 'CIELO CHIARO']\n",
    "\n",
    "giorni_chiari = situazione_chiara.groupby('tempo').size()\n",
    "\n",
    "count = len(giorni_chiari)\n",
    "\n",
    "print(f\"Il numero di giorni in cui la situazione è stata chiara è: {count}\")"
   ]
  },
  {
   "cell_type": "markdown",
   "id": "406873bf",
   "metadata": {},
   "source": [
    "### 4. Qual è la media dei consumi per ogni area?\n"
   ]
  },
  {
   "cell_type": "code",
   "execution_count": 55,
   "id": "83492cb4",
   "metadata": {},
   "outputs": [
    {
     "name": "stdout",
     "output_type": "stream",
     "text": [
      "consumi medii dell'area della casa:\n",
      "Home office [kW]    0.081287\n",
      "Wine cellar [kW]    0.042137\n",
      "Garage door [kW]    0.014139\n",
      "Barn [kW]           0.058530\n",
      "Well [kW]           0.015642\n",
      "Living room [kW]    0.035313\n",
      "cucina              0.351684\n",
      "dtype: float64\n"
     ]
    }
   ],
   "source": [
    "#NOTA: utilizzo il DF definito nella query 1 (df_consumi_casa)\n",
    "\n",
    "consumi_media = df_consumi_casa.mean()\n",
    "\n",
    "print(f\"consumi medii dell'area della casa:\\n{consumi_media}\")\n"
   ]
  },
  {
   "cell_type": "markdown",
   "id": "f07335bc",
   "metadata": {},
   "source": [
    "### 5. In media in quali giorni della settimana consumo di più? E quale area in particolare?\n"
   ]
  },
  {
   "cell_type": "code",
   "execution_count": 56,
   "id": "ec94c7f5",
   "metadata": {},
   "outputs": [
    {
     "name": "stdout",
     "output_type": "stream",
     "text": [
      "I consumi medi della settimana sono riferiti al giorno e nelle seguenti aree:\n",
      "Home office [kW]       Monday\n",
      "Wine cellar [kW]       Monday\n",
      "Garage door [kW]    Wednesday\n",
      "Barn [kW]              Friday\n",
      "Well [kW]            Saturday\n",
      "Living room [kW]     Thursday\n",
      "cucina                 Friday\n",
      "dtype: object\n"
     ]
    }
   ],
   "source": [
    "df_integrato['giorno_settimana'] = df_integrato['tempo'].dt.day_name()\n",
    "\n",
    "#Raggruppa i dati per giorno della settimana e area: \n",
    "consumi_per_giorno_area = df_integrato.groupby(['giorno_settimana'])[['Home office [kW]', 'Wine cellar [kW]', 'Garage door [kW]', 'Barn [kW]', 'Well [kW]', 'Living room [kW]', 'cucina']].mean()\n",
    "\n",
    "consumi_medi_settimana = consumi_per_giorno_area.idxmax()\n",
    "\n",
    "print(f\"I consumi medi della settimana sono riferiti al giorno e nelle seguenti aree:\\n{consumi_medi_settimana}\")\n"
   ]
  },
  {
   "cell_type": "markdown",
   "id": "d9f7eead",
   "metadata": {},
   "source": [
    "### 6. Per ogni giorno della settimana indicare quale area della casa consuma di più\n"
   ]
  },
  {
   "cell_type": "code",
   "execution_count": 57,
   "id": "e9fd4bf0",
   "metadata": {},
   "outputs": [
    {
     "name": "stdout",
     "output_type": "stream",
     "text": [
      "area della casa che consuma di più nei giorni:\n",
      "giorno_settimana\n",
      "Friday       cucina\n",
      "Monday       cucina\n",
      "Saturday     cucina\n",
      "Sunday       cucina\n",
      "Thursday     cucina\n",
      "Tuesday      cucina\n",
      "Wednesday    cucina\n",
      "dtype: object\n"
     ]
    }
   ],
   "source": [
    "#NOTA: Si utilizza il raggruppamento definito nel punto di sopra: consumi_per_giorno_area \n",
    "\n",
    "area_massima_per_giorno = consumi_per_giorno_area.idxmax(axis=1)\n",
    "\n",
    "print(f\"area della casa che consuma di più nei giorni:\\n{area_massima_per_giorno}\")\n"
   ]
  },
  {
   "cell_type": "markdown",
   "id": "188cc794",
   "metadata": {},
   "source": [
    "### 7. Quale elettrodomestico della cucina consuma di più?\n"
   ]
  },
  {
   "cell_type": "code",
   "execution_count": 58,
   "id": "550db7a6",
   "metadata": {},
   "outputs": [
    {
     "name": "stdout",
     "output_type": "stream",
     "text": [
      "l'elettrodomestico che consuma di pià nella cucina è: Furnace 2 [kW] con il valore 68924.4 [kW]\n"
     ]
    }
   ],
   "source": [
    "elettrodomestico = cucina_df.sum()\n",
    "elettrodomestico_massimo = elettrodomestico.idxmax()\n",
    "valore = round(elettrodomestico.max(), 2)\n",
    "\n",
    "print(f\"l'elettrodomestico che consuma di pià nella cucina è: {elettrodomestico_massimo} con il valore {valore} [kW]\")"
   ]
  },
  {
   "cell_type": "markdown",
   "id": "7e8a29d8",
   "metadata": {},
   "source": [
    "### 8. Quale dei due forni consuma di più?\n"
   ]
  },
  {
   "cell_type": "code",
   "execution_count": 59,
   "id": "1de821a5",
   "metadata": {},
   "outputs": [
    {
     "name": "stdout",
     "output_type": "stream",
     "text": [
      "forno 2 consuma di più con valore.\n"
     ]
    }
   ],
   "source": [
    "forno_1 = smart_home_df[\"Furnace 1 [kW]\"].sum()\n",
    "forno_2 = smart_home_df[\"Furnace 2 [kW]\"].sum()\n",
    "\n",
    "if(forno_1 > forno_2): \n",
    "    print(\"forno 1 consuma di più con valore.\")\n",
    "else: \n",
    "    print(\"forno 2 consuma di più con valore.\")"
   ]
  },
  {
   "cell_type": "markdown",
   "id": "7c156836",
   "metadata": {},
   "source": [
    "### 9. Quanti kW vengono consumati quando la temperatura è massima? E quali sono i consumi con la temperatura minima?\n"
   ]
  },
  {
   "cell_type": "code",
   "execution_count": 60,
   "id": "b10fa699",
   "metadata": {},
   "outputs": [
    {
     "name": "stdout",
     "output_type": "stream",
     "text": [
      "Vengono consumati 72.62 kW quando la temperatura è massima.\n",
      "Vengono consumati 57.09 kW quando la temperatura è minima.\n"
     ]
    }
   ],
   "source": [
    "#trovare temperatura max e min\n",
    "temperatura_max = df_integrato['temperature'].max()\n",
    "temperatura_min = df_integrato['temperature'].min()\n",
    "\n",
    "#Filtrare i dati per le temperature massime e minime:\n",
    "df_temperatura_max = df_consumi_casa.loc[df_integrato['temperature'] == temperatura_max]\n",
    "df_temperatura_min = df_consumi_casa.loc[df_integrato['temperature'] == temperatura_min]\n",
    "\n",
    "#Calcola i consumi per le temperature massime e minime: \n",
    "consumo_max = round(df_temperatura_max.sum().sum(),2)\n",
    "consumo_min = round(df_temperatura_min.sum().sum(),2)\n",
    "\n",
    "print(f\"Vengono consumati {consumo_max} kW quando la temperatura è massima.\")\n",
    "print(f\"Vengono consumati {consumo_min} kW quando la temperatura è minima.\")\n"
   ]
  },
  {
   "cell_type": "markdown",
   "id": "86f93b69",
   "metadata": {},
   "source": [
    "### 10. Stessa domanda della 9 ma considerando la copertura di nuvole massimo e quella minima\n"
   ]
  },
  {
   "cell_type": "code",
   "execution_count": 61,
   "id": "91162475",
   "metadata": {},
   "outputs": [
    {
     "name": "stdout",
     "output_type": "stream",
     "text": [
      "Vengono consumati 0.0 kW quando la temperatura è massima e la copertura delle nuvole è massima.\n",
      "Vengono consumati 57.09 kW quando la temperatura è minima e la copertura delle nuvole è minima.\n"
     ]
    }
   ],
   "source": [
    "# Trova copertura massima e minima delle nuvole\n",
    "nuvole_max = df_integrato['cloudCover'].max()\n",
    "nuvole_min = df_integrato['cloudCover'].min()\n",
    "\n",
    "# Filtra i dati per le temperature massime e minime e copertura massima e minima delle nuvole\n",
    "df_temp_nuvole_max = df_consumi_casa.loc[(df_integrato['temperature'] == temperatura_max) & (df_integrato['cloudCover'] == nuvole_max)]\n",
    "df_temp_nuvole_min = df_consumi_casa.loc[(df_integrato['temperature'] == temperatura_min) & (df_integrato['cloudCover'] == nuvole_min)]\n",
    "\n",
    "# Calcola i consumi per le temperature massime e minime con copertura massima e minima delle nuvole\n",
    "consumo_max_nuvole = round(df_temp_nuvole_max.sum().sum(), 2)\n",
    "consumo_min_nuvole = round(df_temp_nuvole_min.sum().sum(), 2)\n",
    "\n",
    "print(f\"Vengono consumati {consumo_max_nuvole} kW quando la temperatura è massima e la copertura delle nuvole è massima.\")\n",
    "print(f\"Vengono consumati {consumo_min_nuvole} kW quando la temperatura è minima e la copertura delle nuvole è minima.\")\n"
   ]
  },
  {
   "cell_type": "markdown",
   "id": "5a26e932",
   "metadata": {},
   "source": [
    "### 11. stessa domanda di 9 e 10 ma considerando le precipitazioni massime e minime\n"
   ]
  },
  {
   "cell_type": "code",
   "execution_count": 62,
   "id": "ce968c65",
   "metadata": {},
   "outputs": [
    {
     "name": "stdout",
     "output_type": "stream",
     "text": [
      "Vengono consumati 0.0 kW quando la temperatura è massima, la copertura delle nuvole è massima e le precipitazioni sono massime.\n",
      "Vengono consumati 57.09 kW quando la temperatura è minima, la copertura delle nuvole è minima e le precipitazioni sono minime.\n"
     ]
    }
   ],
   "source": [
    "# Trova precipitazioni massime e minime\n",
    "precipitazioni_max = df_integrato['precipIntensity'].max()\n",
    "precipitazioni_min = df_integrato['precipIntensity'].min()\n",
    "\n",
    "\n",
    "# Filtra i dati per le temperature massime e minime e copertura massima e minima delle nuvole\n",
    "df_temp_precipitazioni_max = df_consumi_casa.loc[(df_integrato['temperature'] == temperatura_max) & (df_integrato['cloudCover'] == nuvole_max) & (df_integrato['precipIntensity'] == precipitazioni_max)]\n",
    "df_temp_precipitazioni_min = df_consumi_casa.loc[(df_integrato['temperature'] == temperatura_min) & (df_integrato['cloudCover'] == nuvole_min) & (df_integrato['precipIntensity'] == precipitazioni_min)]\n",
    "\n",
    "# Calcola i consumi per le temperature massime e minime con copertura massima e minima delle nuvole\n",
    "consumo_max_prec = round(df_temp_precipitazioni_max.sum().sum(), 2)\n",
    "consumo_min_prec = round(df_temp_precipitazioni_min.sum().sum(), 2)\n",
    "\n",
    "print(f\"Vengono consumati {consumo_max_prec} kW quando la temperatura è massima, la copertura delle nuvole è massima e le precipitazioni sono massime.\")\n",
    "print(f\"Vengono consumati {consumo_min_prec} kW quando la temperatura è minima, la copertura delle nuvole è minima e le precipitazioni sono minime.\")\n",
    "\n"
   ]
  },
  {
   "cell_type": "markdown",
   "id": "a67abe3f",
   "metadata": {},
   "source": [
    "### 12. In quale arco della giornata avviene la produzione massima di energia solare??\n"
   ]
  },
  {
   "cell_type": "code",
   "execution_count": 74,
   "id": "76ac5cb9",
   "metadata": {},
   "outputs": [
    {
     "name": "stdout",
     "output_type": "stream",
     "text": [
      "L'arco della giornata in cui avviene la produzione massima di energia solare è alle 2016-01-01 13:00:00.\n"
     ]
    }
   ],
   "source": [
    "prod_energia = df_integrato.groupby('tempo')['gen [kW]'].sum()\n",
    "\n",
    "prod_max = prod_energia.idxmax()\n",
    "\n",
    "print(f\"L'arco della giornata in cui avviene la produzione massima di energia solare è alle {prod_max}.\")\n"
   ]
  },
  {
   "cell_type": "markdown",
   "id": "8bf5c6dd",
   "metadata": {},
   "source": [
    "### 13. In quale arco della giornata si consuma di meno?\n"
   ]
  },
  {
   "cell_type": "code",
   "execution_count": 77,
   "id": "4098c136",
   "metadata": {},
   "outputs": [
    {
     "name": "stdout",
     "output_type": "stream",
     "text": [
      "L'arco della giornata in cui avviene la produzione minima di energia solare è alle 2016-01-01 08:07:39.\n"
     ]
    }
   ],
   "source": [
    "prod_min = prod_energia.idxmin()\n",
    "\n",
    "print(f\"L'arco della giornata in cui avviene la produzione minima di energia solare è alle {prod_min}.\")"
   ]
  },
  {
   "cell_type": "markdown",
   "id": "0a5fa161",
   "metadata": {},
   "source": [
    "### 14. Quanta energia viene prodotta dai pannelli solari quando la temperatura esterna è massima?\n"
   ]
  },
  {
   "cell_type": "code",
   "execution_count": 84,
   "id": "05870e7d",
   "metadata": {},
   "outputs": [
    {
     "name": "stdout",
     "output_type": "stream",
     "text": [
      "L'energia prodotta dai pannelli solari è 12.69 J quando la temperatura esterna è massima.\n"
     ]
    }
   ],
   "source": [
    "produzione_solare_max = round(df_integrato.loc[df_integrato['temperature'] == temperatura_max, 'gen [kW]'].sum(), 2)\n",
    "\n",
    "print(f\"L'energia prodotta dai pannelli solari è {produzione_solare_max} J quando la temperatura esterna è massima.\")\n"
   ]
  },
  {
   "cell_type": "markdown",
   "id": "dcc4eb46",
   "metadata": {},
   "source": [
    "### 15. Quanta energia viene prodotta dai pannelli solari con una copertura di nuvole massima?"
   ]
  },
  {
   "cell_type": "code",
   "execution_count": 94,
   "id": "f0d7400f",
   "metadata": {},
   "outputs": [
    {
     "name": "stdout",
     "output_type": "stream",
     "text": [
      "L'energia prodotta dai pannelli solari è 3875.42 J quando la copertura di nuvole è massima.\n"
     ]
    }
   ],
   "source": [
    "prod_solare_nuvole = round(df_integrato.loc[df_integrato['cloudCover'] == nuvole_max, 'gen [kW]'].sum(), 2)\n",
    "\n",
    "print(f\"L'energia prodotta dai pannelli solari è {prod_solare_nuvole} J quando la copertura di nuvole è massima.\")\n"
   ]
  },
  {
   "cell_type": "markdown",
   "id": "b7e59f35",
   "metadata": {},
   "source": [
    "# Object Oriented Programming"
   ]
  },
  {
   "cell_type": "markdown",
   "id": "a922bc6d",
   "metadata": {},
   "source": [
    "* Creare una classe python che permetta di effettuare le operazioni di feature engineering e data integration nei punti 1.3 e 1.4\n",
    "* Creare una classe python che incapsuli all'interno di metodi il codice utilizzato per rispondere alle domande del punto 2 (Escluso il codice per effettuare i grafici)"
   ]
  },
  {
   "cell_type": "code",
   "execution_count": 97,
   "id": "151e9352",
   "metadata": {},
   "outputs": [
    {
     "ename": "KeyError",
     "evalue": "\"[('Solar [kW]',)] not found in axis\"",
     "output_type": "error",
     "traceback": [
      "\u001b[1;31m---------------------------------------------------------------------------\u001b[0m",
      "\u001b[1;31mKeyError\u001b[0m                                  Traceback (most recent call last)",
      "Cell \u001b[1;32mIn[97], line 2\u001b[0m\n\u001b[0;32m      1\u001b[0m \u001b[38;5;66;03m#Classe python per creare le feature engineering\u001b[39;00m\n\u001b[1;32m----> 2\u001b[0m \u001b[38;5;28;01mclass\u001b[39;00m \u001b[38;5;21;01mTestPOC\u001b[39;00m: \n\u001b[0;32m      3\u001b[0m     \u001b[38;5;66;03m#1.3.a\u001b[39;00m\n\u001b[0;32m      4\u001b[0m     column_interest_smart_home \u001b[38;5;241m=\u001b[39m [\u001b[38;5;124m'\u001b[39m\u001b[38;5;124mid\u001b[39m\u001b[38;5;124m'\u001b[39m, \u001b[38;5;124m'\u001b[39m\u001b[38;5;124mtime\u001b[39m\u001b[38;5;124m'\u001b[39m, \u001b[38;5;124m'\u001b[39m\u001b[38;5;124mgen [kW]\u001b[39m\u001b[38;5;124m'\u001b[39m, \u001b[38;5;124m'\u001b[39m\u001b[38;5;124mHome office [kW]\u001b[39m\u001b[38;5;124m'\u001b[39m, \u001b[38;5;124m'\u001b[39m\u001b[38;5;124mWine cellar [kW]\u001b[39m\u001b[38;5;124m'\u001b[39m, \u001b[38;5;124m'\u001b[39m\u001b[38;5;124mGarage door [kW]\u001b[39m\u001b[38;5;124m'\u001b[39m, \u001b[38;5;124m'\u001b[39m\u001b[38;5;124mBarn [kW]\u001b[39m\u001b[38;5;124m'\u001b[39m,\n\u001b[0;32m      5\u001b[0m                              \u001b[38;5;124m'\u001b[39m\u001b[38;5;124mWell [kW]\u001b[39m\u001b[38;5;124m'\u001b[39m, \u001b[38;5;124m'\u001b[39m\u001b[38;5;124mLiving room [kW]\u001b[39m\u001b[38;5;124m'\u001b[39m, \u001b[38;5;124m'\u001b[39m\u001b[38;5;124mSolar [kW]\u001b[39m\u001b[38;5;124m'\u001b[39m, \u001b[38;5;124m'\u001b[39m\u001b[38;5;124malexa [kW]\u001b[39m\u001b[38;5;124m'\u001b[39m]\n\u001b[0;32m      7\u001b[0m     df_smart_home_cucina \u001b[38;5;241m=\u001b[39m smart_home_df[column_interest_smart_home]\n",
      "Cell \u001b[1;32mIn[97], line 30\u001b[0m, in \u001b[0;36mTestPOC\u001b[1;34m()\u001b[0m\n\u001b[0;32m     28\u001b[0m eliminare \u001b[38;5;241m=\u001b[39m getDuplicateColumns(smart_home_df)\n\u001b[0;32m     29\u001b[0m \u001b[38;5;66;03m#Eliminare la colonna Solar che è duplicata\u001b[39;00m\n\u001b[1;32m---> 30\u001b[0m df_smart_home_cucina \u001b[38;5;241m=\u001b[39m df_smart_home_cucina\u001b[38;5;241m.\u001b[39mdrop([eliminare], axis \u001b[38;5;241m=\u001b[39m \u001b[38;5;241m1\u001b[39m)\n\u001b[0;32m     31\u001b[0m \u001b[38;5;28mprint\u001b[39m(df_smart_home_cucina\u001b[38;5;241m.\u001b[39mhead())\n",
      "File \u001b[1;32m~\\anaconda3\\Lib\\site-packages\\pandas\\core\\frame.py:5258\u001b[0m, in \u001b[0;36mDataFrame.drop\u001b[1;34m(self, labels, axis, index, columns, level, inplace, errors)\u001b[0m\n\u001b[0;32m   5110\u001b[0m \u001b[38;5;28;01mdef\u001b[39;00m \u001b[38;5;21mdrop\u001b[39m(\n\u001b[0;32m   5111\u001b[0m     \u001b[38;5;28mself\u001b[39m,\n\u001b[0;32m   5112\u001b[0m     labels: IndexLabel \u001b[38;5;241m=\u001b[39m \u001b[38;5;28;01mNone\u001b[39;00m,\n\u001b[1;32m   (...)\u001b[0m\n\u001b[0;32m   5119\u001b[0m     errors: IgnoreRaise \u001b[38;5;241m=\u001b[39m \u001b[38;5;124m\"\u001b[39m\u001b[38;5;124mraise\u001b[39m\u001b[38;5;124m\"\u001b[39m,\n\u001b[0;32m   5120\u001b[0m ) \u001b[38;5;241m-\u001b[39m\u001b[38;5;241m>\u001b[39m DataFrame \u001b[38;5;241m|\u001b[39m \u001b[38;5;28;01mNone\u001b[39;00m:\n\u001b[0;32m   5121\u001b[0m \u001b[38;5;250m    \u001b[39m\u001b[38;5;124;03m\"\"\"\u001b[39;00m\n\u001b[0;32m   5122\u001b[0m \u001b[38;5;124;03m    Drop specified labels from rows or columns.\u001b[39;00m\n\u001b[0;32m   5123\u001b[0m \n\u001b[1;32m   (...)\u001b[0m\n\u001b[0;32m   5256\u001b[0m \u001b[38;5;124;03m            weight  1.0     0.8\u001b[39;00m\n\u001b[0;32m   5257\u001b[0m \u001b[38;5;124;03m    \"\"\"\u001b[39;00m\n\u001b[1;32m-> 5258\u001b[0m     \u001b[38;5;28;01mreturn\u001b[39;00m \u001b[38;5;28msuper\u001b[39m()\u001b[38;5;241m.\u001b[39mdrop(\n\u001b[0;32m   5259\u001b[0m         labels\u001b[38;5;241m=\u001b[39mlabels,\n\u001b[0;32m   5260\u001b[0m         axis\u001b[38;5;241m=\u001b[39maxis,\n\u001b[0;32m   5261\u001b[0m         index\u001b[38;5;241m=\u001b[39mindex,\n\u001b[0;32m   5262\u001b[0m         columns\u001b[38;5;241m=\u001b[39mcolumns,\n\u001b[0;32m   5263\u001b[0m         level\u001b[38;5;241m=\u001b[39mlevel,\n\u001b[0;32m   5264\u001b[0m         inplace\u001b[38;5;241m=\u001b[39minplace,\n\u001b[0;32m   5265\u001b[0m         errors\u001b[38;5;241m=\u001b[39merrors,\n\u001b[0;32m   5266\u001b[0m     )\n",
      "File \u001b[1;32m~\\anaconda3\\Lib\\site-packages\\pandas\\core\\generic.py:4549\u001b[0m, in \u001b[0;36mNDFrame.drop\u001b[1;34m(self, labels, axis, index, columns, level, inplace, errors)\u001b[0m\n\u001b[0;32m   4547\u001b[0m \u001b[38;5;28;01mfor\u001b[39;00m axis, labels \u001b[38;5;129;01min\u001b[39;00m axes\u001b[38;5;241m.\u001b[39mitems():\n\u001b[0;32m   4548\u001b[0m     \u001b[38;5;28;01mif\u001b[39;00m labels \u001b[38;5;129;01mis\u001b[39;00m \u001b[38;5;129;01mnot\u001b[39;00m \u001b[38;5;28;01mNone\u001b[39;00m:\n\u001b[1;32m-> 4549\u001b[0m         obj \u001b[38;5;241m=\u001b[39m obj\u001b[38;5;241m.\u001b[39m_drop_axis(labels, axis, level\u001b[38;5;241m=\u001b[39mlevel, errors\u001b[38;5;241m=\u001b[39merrors)\n\u001b[0;32m   4551\u001b[0m \u001b[38;5;28;01mif\u001b[39;00m inplace:\n\u001b[0;32m   4552\u001b[0m     \u001b[38;5;28mself\u001b[39m\u001b[38;5;241m.\u001b[39m_update_inplace(obj)\n",
      "File \u001b[1;32m~\\anaconda3\\Lib\\site-packages\\pandas\\core\\generic.py:4591\u001b[0m, in \u001b[0;36mNDFrame._drop_axis\u001b[1;34m(self, labels, axis, level, errors, only_slice)\u001b[0m\n\u001b[0;32m   4589\u001b[0m         new_axis \u001b[38;5;241m=\u001b[39m axis\u001b[38;5;241m.\u001b[39mdrop(labels, level\u001b[38;5;241m=\u001b[39mlevel, errors\u001b[38;5;241m=\u001b[39merrors)\n\u001b[0;32m   4590\u001b[0m     \u001b[38;5;28;01melse\u001b[39;00m:\n\u001b[1;32m-> 4591\u001b[0m         new_axis \u001b[38;5;241m=\u001b[39m axis\u001b[38;5;241m.\u001b[39mdrop(labels, errors\u001b[38;5;241m=\u001b[39merrors)\n\u001b[0;32m   4592\u001b[0m     indexer \u001b[38;5;241m=\u001b[39m axis\u001b[38;5;241m.\u001b[39mget_indexer(new_axis)\n\u001b[0;32m   4594\u001b[0m \u001b[38;5;66;03m# Case for non-unique axis\u001b[39;00m\n\u001b[0;32m   4595\u001b[0m \u001b[38;5;28;01melse\u001b[39;00m:\n",
      "File \u001b[1;32m~\\anaconda3\\Lib\\site-packages\\pandas\\core\\indexes\\base.py:6699\u001b[0m, in \u001b[0;36mIndex.drop\u001b[1;34m(self, labels, errors)\u001b[0m\n\u001b[0;32m   6697\u001b[0m \u001b[38;5;28;01mif\u001b[39;00m mask\u001b[38;5;241m.\u001b[39many():\n\u001b[0;32m   6698\u001b[0m     \u001b[38;5;28;01mif\u001b[39;00m errors \u001b[38;5;241m!=\u001b[39m \u001b[38;5;124m\"\u001b[39m\u001b[38;5;124mignore\u001b[39m\u001b[38;5;124m\"\u001b[39m:\n\u001b[1;32m-> 6699\u001b[0m         \u001b[38;5;28;01mraise\u001b[39;00m \u001b[38;5;167;01mKeyError\u001b[39;00m(\u001b[38;5;124mf\u001b[39m\u001b[38;5;124m\"\u001b[39m\u001b[38;5;132;01m{\u001b[39;00m\u001b[38;5;28mlist\u001b[39m(labels[mask])\u001b[38;5;132;01m}\u001b[39;00m\u001b[38;5;124m not found in axis\u001b[39m\u001b[38;5;124m\"\u001b[39m)\n\u001b[0;32m   6700\u001b[0m     indexer \u001b[38;5;241m=\u001b[39m indexer[\u001b[38;5;241m~\u001b[39mmask]\n\u001b[0;32m   6701\u001b[0m \u001b[38;5;28;01mreturn\u001b[39;00m \u001b[38;5;28mself\u001b[39m\u001b[38;5;241m.\u001b[39mdelete(indexer)\n",
      "\u001b[1;31mKeyError\u001b[0m: \"[('Solar [kW]',)] not found in axis\""
     ]
    }
   ],
   "source": [
    "#Classe python per creare le feature engineering\n",
    "class TestPOC: \n",
    "    #1.3.a\n",
    "    column_interest_smart_home = ['id', 'time', 'gen [kW]', 'Home office [kW]', 'Wine cellar [kW]', 'Garage door [kW]', 'Barn [kW]',\n",
    "                             'Well [kW]', 'Living room [kW]', 'Solar [kW]', 'alexa [kW]']\n",
    "\n",
    "    df_smart_home_cucina = smart_home_df[column_interest_smart_home]\n",
    "    \n",
    "    sum_consumi_cucina = cucina_df.sum(axis = 1, skipna = True)\n",
    "    df_consumi_cucina = pd.DataFrame(sum_consumi_cucina)\n",
    "    values_cucina = df_consumi_cucina.iloc[:, 0]\n",
    "    df_smart_home_cucina = df_smart_home_cucina.assign(cucina=values_cucina)\n",
    "    \n",
    "    \n",
    "    #1.3.b\n",
    "    \n",
    "    def getDuplicateColumns(df):\n",
    "        lista_colonne_duplicati = set()  \n",
    "        for x in range(df.shape[1]):\n",
    "            col = df.iloc[:, x]\n",
    "            for y in range(x + 1, df.shape[1]):\n",
    "                otherCol = df.iloc[:, y]\n",
    "                if col.equals(otherCol):\n",
    "                    lista_colonne_duplicati.add(df.columns.values[y])\n",
    "        return list(lista_colonne_duplicati)\n",
    "\n",
    "    \n",
    "    eliminare = getDuplicateColumns(smart_home_df)\n",
    "    #Eliminare la colonna Solar che è duplicata\n",
    "    df_smart_home_cucina = df_smart_home_cucina.drop([eliminare], axis = 1)\n",
    "    print(df_smart_home_cucina.head())\n",
    "    \n",
    "    #1.3.c\n",
    "    \n",
    "    "
   ]
  },
  {
   "cell_type": "markdown",
   "id": "8480db3f",
   "metadata": {},
   "source": [
    "**N.B:** Oltre alla definizione delle classe dovrete indicare in una cella la lista di comandi da eseguire per rispondere alle domande del punto 2"
   ]
  },
  {
   "cell_type": "markdown",
   "id": "4dbb2ef6",
   "metadata": {},
   "source": [
    "# 3. Versioning\n",
    "\n",
    "Elencate nella cella sottostante i comandi necessari per:\n",
    "1. Creare in una cartella vuota un nuovo repository git\n",
    "\n",
    "Immaginate di copia-incollare il notebook ultimato nella cartella in questione\n",
    "\n",
    "2. Eseguire il primo commit\n",
    "4. Indicare che il repository ipotetico https://github.com/myuser/myrepo.git è il repository remoto che vogliamo sincronizzare d'ora in avanti con le modifiche che effttueremo in locale\n",
    "5. sincronizzare le modifiche eseguite in locale con il repository remoto"
   ]
  },
  {
   "cell_type": "markdown",
   "id": "06cf68f0",
   "metadata": {},
   "source": [
    "# 4. Save\n",
    "\n",
    "Inviare ai referenti del recruiting Edison il seguente materiale:\n",
    "1. Questo notebook, con tutti gli output delle varie celle visibili, in **formato HTML**\n",
    "2. Questo notebook, in **formato .ipynb**, salvato dopo avere eseguito \"Clear Output\"\n",
    "\n",
    "L'esaminatore dovrebbe essere in grado di eseguire tutte le celle del notebook avendo a disposizione i due file CSV forniti all'inizio della prova e avendo ricreato l'environment da voi indicato."
   ]
  },
  {
   "cell_type": "code",
   "execution_count": null,
   "id": "6d6904fc",
   "metadata": {},
   "outputs": [],
   "source": []
  }
 ],
 "metadata": {
  "kernelspec": {
   "display_name": "Python 3 (ipykernel)",
   "language": "python",
   "name": "python3"
  },
  "language_info": {
   "codemirror_mode": {
    "name": "ipython",
    "version": 3
   },
   "file_extension": ".py",
   "mimetype": "text/x-python",
   "name": "python",
   "nbconvert_exporter": "python",
   "pygments_lexer": "ipython3",
   "version": "3.11.5"
  }
 },
 "nbformat": 4,
 "nbformat_minor": 5
}
